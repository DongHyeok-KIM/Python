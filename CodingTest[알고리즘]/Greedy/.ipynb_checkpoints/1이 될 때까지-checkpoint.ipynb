{
 "cells": [
  {
   "cell_type": "markdown",
   "metadata": {},
   "source": [
    "어떠한 수 N 이 1이 될 때까지 다음의 두 과정 중 하나를 반복적으로 선택하여 수행하려고 한다. 단, 두 번째 연산은 N이 K로 나누어 떨어질 때만 선택할 수 있다.\n",
    "\n",
    "1. N에서 1을 뺀다.   \n",
    "2. N을 K로 나눈다."
   ]
  },
  {
   "cell_type": "markdown",
   "metadata": {},
   "source": [
    "N과 K가 주어젔을때 N이 1이 될때까지 1,2번의 과정을 수행해야하는 최소 횟수를 구하라"
   ]
  },
  {
   "cell_type": "code",
   "execution_count": 11,
   "metadata": {},
   "outputs": [
    {
     "name": "stdout",
     "output_type": "stream",
     "text": [
      "25 5\n",
      "25\n",
      "0\n",
      "5\n",
      "5\n",
      "1\n",
      "1\n",
      "0\n",
      "3\n",
      "2\n"
     ]
    }
   ],
   "source": [
    "n , k = map(int, input().split())\n",
    "\n",
    "result = 0 \n",
    "\n",
    "while True:\n",
    "    # N이 k로 나누어 떨어질때 까지 1씩 빼기\n",
    "    target = (n // k) * k\n",
    "    print(target)\n",
    "    result += (n - target)\n",
    "    print(result)\n",
    "    n = target\n",
    "    #N이 K보다 작을 때 (더 이상 나눌 수 없을 때) 반복문 탈출\n",
    "    if n< k:\n",
    "        break\n",
    "    result += 1\n",
    "    n//=k\n",
    "    print(n)\n",
    "result += (n-1)\n",
    "print(result)"
   ]
  },
  {
   "cell_type": "markdown",
   "metadata": {},
   "source": []
  }
 ],
 "metadata": {
  "kernelspec": {
   "display_name": "Python 3",
   "language": "python",
   "name": "python3"
  },
  "language_info": {
   "codemirror_mode": {
    "name": "ipython",
    "version": 3
   },
   "file_extension": ".py",
   "mimetype": "text/x-python",
   "name": "python",
   "nbconvert_exporter": "python",
   "pygments_lexer": "ipython3",
   "version": "3.7.6"
  }
 },
 "nbformat": 4,
 "nbformat_minor": 4
}
