{
 "cells": [
  {
   "cell_type": "markdown",
   "metadata": {},
   "source": [
    "다솜이는 0과 1로만 이루어진 문자열 s를 가지고있다. 다솜이는 이 문자열 s에있는 모든숫자를 같게 만드려고 한다. 다솜이가 할 수있는 행동은 s에서 연속된 하나 이상의 숫자를 잡고 모두 뒤집는 것이다.\n",
    "\n",
    "행동의 최소횟수를 구하라"
   ]
  },
  {
   "cell_type": "code",
   "execution_count": 4,
   "metadata": {},
   "outputs": [
    {
     "name": "stdout",
     "output_type": "stream",
     "text": [
      "0001100\n",
      "1\n"
     ]
    }
   ],
   "source": [
    "data = input()\n",
    "\n",
    "count0 = 0\n",
    "count1 = 0\n",
    "\n",
    "if data[0] =='1':\n",
    "    count0 +=1\n",
    "else:\n",
    "    count1 += 1\n",
    "\n",
    "\n",
    "for i in range(len(data) -1):\n",
    "    if data[i] != data[i+1]:\n",
    "        if data[i + 1] == '1':\n",
    "            count0 +=1\n",
    "        else:\n",
    "            count1 +=1\n",
    "print(min(count0, count1))\n"
   ]
  },
  {
   "cell_type": "code",
   "execution_count": null,
   "metadata": {},
   "outputs": [],
   "source": []
  }
 ],
 "metadata": {
  "kernelspec": {
   "display_name": "Python 3",
   "language": "python",
   "name": "python3"
  },
  "language_info": {
   "codemirror_mode": {
    "name": "ipython",
    "version": 3
   },
   "file_extension": ".py",
   "mimetype": "text/x-python",
   "name": "python",
   "nbconvert_exporter": "python",
   "pygments_lexer": "ipython3",
   "version": "3.7.6"
  }
 },
 "nbformat": 4,
 "nbformat_minor": 4
}
