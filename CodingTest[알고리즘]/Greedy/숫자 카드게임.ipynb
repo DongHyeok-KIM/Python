{
 "cells": [
  {
   "cell_type": "markdown",
   "metadata": {},
   "source": [
    "여러개의 숫자 카드 중에서 가장 높은 숫자가 쓰인 카드 한 장을 뽑는 게임이다.\n",
    "단, 게임의 룰을 지키며 카드를 뽑아야 한다.\n",
    "\n",
    "숫자가 쓰인 카드들은 N * M 형태로 놓여있다 이때 N 은 행의 개수를 의미하며, M은 열의 개수를 의미한다.   \n",
    "먼저 뽑고자 하는 카드가 포함되어 있는 행을 선택한다.   \n",
    "그다음 선택된 행에 포함된 카드들 중 가장 숫자가 낮은 카드를 뽑아야한다.    \n",
    "따라서 처음에 카드를 골라낼 행을 선택할 때, 이후에 해당 행에서 가장 숫자가 낮은 카드를 뽑을 것을 고려하여 최종적으로가장 높은 숫자의 카드를 뽑을 수 있도록 전략을 세워야 한다."
   ]
  },
  {
   "cell_type": "markdown",
   "metadata": {},
   "source": [
    "각 행마다 가장 작은 수를 찾은 뒤 그 수 중에서 가장 큰 수를 찾으면 됨"
   ]
  },
  {
   "cell_type": "code",
   "execution_count": 4,
   "metadata": {},
   "outputs": [
    {
     "name": "stdout",
     "output_type": "stream",
     "text": [
      "3 3\n",
      "3 1 2\n",
      "4 1 4\n",
      "2 2 2\n",
      "2\n"
     ]
    }
   ],
   "source": [
    "#공백을 기준으로 입력받기\n",
    "n , m = map(int, input().split())\n",
    "\n",
    "\n",
    "result = 0\n",
    "#한줄식 입력받기\n",
    "for i in range(n):\n",
    "    data =list(map(int, input().split()))\n",
    "    #현재줄에서 가장 작은 수 찾기\n",
    "    min_value = min(data)\n",
    "    #가장 작은 수들중에서 가장 큰 수 찾기\n",
    "    result = max(result, min_value)\n",
    "\n",
    "print(result)"
   ]
  },
  {
   "cell_type": "code",
   "execution_count": null,
   "metadata": {},
   "outputs": [],
   "source": []
  }
 ],
 "metadata": {
  "kernelspec": {
   "display_name": "Python 3",
   "language": "python",
   "name": "python3"
  },
  "language_info": {
   "codemirror_mode": {
    "name": "ipython",
    "version": 3
   },
   "file_extension": ".py",
   "mimetype": "text/x-python",
   "name": "python",
   "nbconvert_exporter": "python",
   "pygments_lexer": "ipython3",
   "version": "3.7.6"
  }
 },
 "nbformat": 4,
 "nbformat_minor": 4
}
