{
 "cells": [
  {
   "cell_type": "markdown",
   "metadata": {},
   "source": [
    "# 상하좌우 좌표 이동하기"
   ]
  },
  {
   "cell_type": "markdown",
   "metadata": {},
   "source": [
    "N * N공간, 왼쪽위는(1,1), 오른쪽 맨아래는 (N,N) 일때    \n",
    "L,R,U,D가 주어질때 최종 좌표는 ?"
   ]
  },
  {
   "cell_type": "code",
   "execution_count": 2,
   "metadata": {},
   "outputs": [
    {
     "name": "stdout",
     "output_type": "stream",
     "text": [
      "5\n",
      "R R R U D D\n",
      "3 4\n"
     ]
    }
   ],
   "source": [
    "n = int(input())\n",
    "x, y = 1, 1\n",
    "\n",
    "plans = input().split()\n",
    "#방향이 주어질때 이동될 (x,y) 숫자화\n",
    "dx = [0,0,-1,1]\n",
    "dy = [-1,1,0,0]\n",
    "move_types = ['L','R','U','D']\n",
    "\n",
    "#입력받은 방향을 하나씩 수행\n",
    "for plan in plans:\n",
    "    \n",
    "    for i in range(len(move_types)):\n",
    "        #입력받은 방향에서만 이동되도록 if 설정\n",
    "        if plan == move_types[i]:\n",
    "            nx = x + dx[i]\n",
    "            ny = y + dy[i]\n",
    "    #N * N 을 벗어나는 경우는 무시되도록 설정        \n",
    "    if nx < 1 or ny < 1 or nx>n or ny>n:\n",
    "        continue\n",
    "    \n",
    "    x,y = nx, ny\n",
    "    \n",
    "print(x, y)"
   ]
  },
  {
   "cell_type": "code",
   "execution_count": null,
   "metadata": {},
   "outputs": [],
   "source": []
  }
 ],
 "metadata": {
  "kernelspec": {
   "display_name": "Python 3",
   "language": "python",
   "name": "python3"
  },
  "language_info": {
   "codemirror_mode": {
    "name": "ipython",
    "version": 3
   },
   "file_extension": ".py",
   "mimetype": "text/x-python",
   "name": "python",
   "nbconvert_exporter": "python",
   "pygments_lexer": "ipython3",
   "version": "3.7.6"
  }
 },
 "nbformat": 4,
 "nbformat_minor": 4
}
