{
 "cells": [
  {
   "cell_type": "markdown",
   "metadata": {},
   "source": [
    "### 성적이 낮은 순서대로 학생의 이름을 출력하기"
   ]
  },
  {
   "cell_type": "code",
   "execution_count": 8,
   "metadata": {},
   "outputs": [
    {
     "name": "stdout",
     "output_type": "stream",
     "text": [
      "2\n",
      "홍길동 95\n",
      "[('홍길동', 95)] 1\n",
      "이순신 77\n",
      "[('홍길동', 95), ('이순신', 77)] 1\n",
      "[('홍길동', 95), ('이순신', 77)] 2\n",
      "('이순신', 77)\n",
      "[('이순신', 77), ('홍길동', 95)] 3\n",
      "이순신 홍길동 "
     ]
    }
   ],
   "source": [
    "n = int(input())\n",
    "\n",
    "array = []\n",
    "\n",
    "#학생 정보를 입력받아 리스트에 저장\n",
    "for i in range(n):\n",
    "    input_data = input().split()\n",
    "    #이름은 문자열 그대로, 점수는 정수형으로 변환하여 저장\n",
    "    array.append((input_data[0], int(input_data[1])))\n",
    "    print(array,1)\n",
    "#키(key)를 이용하여, 점수를 기준으로 정렬 \n",
    "\n",
    "print(array,2)\n",
    "array = sorted(array, key = lambda studen: studen[1])\n",
    "print(student)\n",
    "\n",
    "#정렬이 수행된 결과를 출력\n",
    "print(array,3)\n",
    "for studen in array:\n",
    "    print(studen[0], end=' ')"
   ]
  },
  {
   "cell_type": "code",
   "execution_count": null,
   "metadata": {},
   "outputs": [],
   "source": []
  }
 ],
 "metadata": {
  "kernelspec": {
   "display_name": "Python 3",
   "language": "python",
   "name": "python3"
  },
  "language_info": {
   "codemirror_mode": {
    "name": "ipython",
    "version": 3
   },
   "file_extension": ".py",
   "mimetype": "text/x-python",
   "name": "python",
   "nbconvert_exporter": "python",
   "pygments_lexer": "ipython3",
   "version": "3.7.6"
  }
 },
 "nbformat": 4,
 "nbformat_minor": 4
}
