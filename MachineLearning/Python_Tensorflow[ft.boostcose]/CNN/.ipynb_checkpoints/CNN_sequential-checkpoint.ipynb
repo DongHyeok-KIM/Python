{
 "cells": [
  {
   "cell_type": "markdown",
   "metadata": {},
   "source": [
    "# Python CNN \n",
    "sequential Api 활용하기   \n",
    "sequential이란? '순차적'을 의미함.   \n",
    "\n",
    "CNN은 Convolution연산과 Pooling연산, fully-connected layer연산을      \n",
    "순차적으로 함을 말한다.\n",
    "\n",
    "즉 sequential eager은 순차적 즉시실행을 의미함.  \n",
    "\n",
    "\n",
    "### 모듈 세팅"
   ]
  },
  {
   "cell_type": "code",
   "execution_count": 1,
   "metadata": {},
   "outputs": [
    {
     "name": "stdout",
     "output_type": "stream",
     "text": [
      "2.1.0\n",
      "2.2.4-tf\n"
     ]
    }
   ],
   "source": [
    "import tensorflow as tf\n",
    "from tensorflow import keras\n",
    "from tensorflow.keras.utils import to_categorical\n",
    "import numpy as np\n",
    "import matplotlib.pyplot as plt\n",
    "import os\n",
    "\n",
    "print(tf.__version__)\n",
    "print(keras.__version__)"
   ]
  },
  {
   "cell_type": "markdown",
   "metadata": {},
   "source": [
    "### 파라미터 설정"
   ]
  },
  {
   "cell_type": "code",
   "execution_count": 2,
   "metadata": {},
   "outputs": [],
   "source": [
    "learning_rate = 0.001\n",
    "training_epochs = 2\n",
    "batch_size = 100"
   ]
  },
  {
   "cell_type": "markdown",
   "metadata": {},
   "source": [
    "### 체크포인트저장할 dic 설정"
   ]
  },
  {
   "cell_type": "code",
   "execution_count": 3,
   "metadata": {},
   "outputs": [],
   "source": [
    "cur_dir = os.getcwd()\n",
    "ckpt_dir_name = 'checkpoints'\n",
    "model_dir_name = 'minst_cnn_seq'\n",
    "\n",
    "checkpoint_dir = os.path.join(cur_dir, ckpt_dir_name, model_dir_name)\n",
    "os.makedirs(checkpoint_dir, exist_ok =True)\n",
    "\n",
    "checkpoint_prefix = os.path.join(checkpoint_dir, model_dir_name)"
   ]
  },
  {
   "cell_type": "markdown",
   "metadata": {},
   "source": [
    "### 데이터셋 설정"
   ]
  },
  {
   "cell_type": "code",
   "execution_count": 4,
   "metadata": {},
   "outputs": [],
   "source": [
    "#keras mninst데이터 불러오기\n",
    "mninst = keras.datasets.mnist\n",
    "\n",
    "#train데이터와, test데이터 설정하기\n",
    "(train_images, train_labels), (test_images, test_labels) = mninst.load_data()\n",
    "\n",
    "#정규화를 위해 255로 나누어줌\n",
    "train_images = train_images.astype(np.float32) / 255\n",
    "test_images = test_images.astype(np.float32) / 255\n",
    "\n",
    "#데이터셋을 4차원으로 만들어주어야함\n",
    "#맨뒤에 차원하나를 만들어줌\n",
    "#기본 데이터는 3차원이였으니 4차원으로 만들어줌\n",
    "train_images = np.expand_dims(train_images, axis=-1)\n",
    "test_images = np.expand_dims(test_images, axis=-1)\n",
    "\n",
    "#원핫 인코딩\n",
    "#labels만 적용\n",
    "train_labels = to_categorical(train_labels, 10)\n",
    "test_labels = to_categorical(test_labels, 10)\n",
    "\n",
    "#실제로 데이터를 공급할 부분\n",
    "#train, test데이터를 각각 배치사이즈 만큼 데이터셋 공급을 한다.\n",
    "train_dataset = tf.data.Dataset.from_tensor_slices((train_images,\n",
    "                train_labels)).shuffle(buffer_size=1000000).batch(batch_size)\n",
    "#테스트 데이터는 섞지않아도된다(셔플하지 않아도된다)\n",
    "test_dataset = tf.data.Dataset.from_tensor_slices((test_images,\n",
    "                test_labels)).batch(batch_size)"
   ]
  },
  {
   "cell_type": "markdown",
   "metadata": {},
   "source": [
    "### 데이터확인"
   ]
  },
  {
   "cell_type": "code",
   "execution_count": 5,
   "metadata": {},
   "outputs": [
    {
     "name": "stdout",
     "output_type": "stream",
     "text": [
      "<module 'tensorflow_core.python.keras.api._v2.keras.datasets.mnist' from '/Users/donut/opt/anaconda3/lib/python3.7/site-packages/tensorflow_core/python/keras/api/_v2/keras/datasets/mnist/__init__.py'>\n",
      "(60000, 28, 28, 1)\n",
      "(60000, 10)\n",
      "(28, 28, 1)\n",
      "[0. 0. 0. 0. 0. 1. 0. 0. 0. 0.]\n",
      "<BatchDataset shapes: ((None, 28, 28, 1), (None, 10)), types: (tf.float32, tf.float32)>\n"
     ]
    }
   ],
   "source": [
    "print(mninst)\n",
    "print(train_images.shape)\n",
    "print(train_labels.shape)\n",
    "print(train_images[0].shape)\n",
    "#print(train_images[0])\n",
    "print(train_labels[0])\n",
    "print(train_dataset)"
   ]
  },
  {
   "cell_type": "code",
   "execution_count": 6,
   "metadata": {},
   "outputs": [
    {
     "name": "stdout",
     "output_type": "stream",
     "text": [
      "[[  0.]\n",
      " [  0.]\n",
      " [  0.]\n",
      " [  0.]\n",
      " [  0.]\n",
      " [  0.]\n",
      " [  0.]\n",
      " [ 73.]\n",
      " [193.]\n",
      " [197.]\n",
      " [134.]\n",
      " [  0.]\n",
      " [  0.]\n",
      " [  0.]\n",
      " [  0.]\n",
      " [  0.]\n",
      " [  0.]\n",
      " [  0.]\n",
      " [  0.]\n",
      " [  0.]\n",
      " [  0.]\n",
      " [  0.]\n",
      " [  0.]\n",
      " [  0.]\n",
      " [  0.]\n",
      " [  0.]\n",
      " [  0.]\n",
      " [  0.]]\n"
     ]
    }
   ],
   "source": [
    "#image데이터는 0~255의 수 로 이루어져 있다.\n",
    "#따라서 255로 나눈다면 0~1사이의 수로 표현이 가능하다.\n",
    "train_check = train_images * 255\n",
    "print(train_check[59999][24])"
   ]
  },
  {
   "cell_type": "markdown",
   "metadata": {},
   "source": [
    "### Neural Network 모델링\n",
    "sequential API사용"
   ]
  },
  {
   "cell_type": "code",
   "execution_count": 7,
   "metadata": {},
   "outputs": [],
   "source": [
    "#sequential eager\n",
    "#model에 keras.Sequential를 선언해주고\n",
    "#add를 통해 순차적으로 model을 학습 시켜준다\n",
    "#conv레이어 3개\n",
    "#maxpool레이어 3개\n",
    "#dens레이어 2개를 순차적으로 학습하는 모델임.\n",
    "\n",
    "def create_model():\n",
    "    #Api호출\n",
    "    model = keras.Sequential()\n",
    "    \n",
    "    #첫 conv레이어\n",
    "    #첫번째에만 인풋shape를 선언해준다.\n",
    "    model.add(keras.layers.Conv2D(filters=32, kernel_size =3, activation= tf.nn.relu,\n",
    "                                 padding = 'SAME',input_shape=(28,28,1)))\n",
    "    #첫 maxpool레이어\n",
    "    #2*2, stribe2 가 디폴트로 적용됨\n",
    "    model.add(keras.layers.MaxPool2D(padding='SAME'))\n",
    "    \n",
    "    #두번째 conv레이어\n",
    "    model.add(keras.layers.Conv2D(filters=64, kernel_size=3, activation=tf.nn.relu,\n",
    "                                 padding='SAME'))\n",
    "    \n",
    "    #두번재 maxpool레이어\n",
    "    model.add(keras.layers.MaxPool2D(padding='SAME'))\n",
    "    \n",
    "    #세번째 conv레이어\n",
    "    model.add(keras.layers.Conv2D(filters=128, kernel_size=3, activation =tf.nn.relu,\n",
    "                                 padding='SAME'))\n",
    "    #세번째 maxpool레이어\n",
    "    model.add(keras.layers.MaxPool2D(padding='SAME'))\n",
    "    \n",
    "    #fully conv 레이어를 적용하기위해 1차원으로 펼처줌\n",
    "    model.add(keras.layers.Flatten())\n",
    "    \n",
    "    ####\n",
    "    #unit = 256 \n",
    "    model.add(keras.layers.Dense(10, activation=tf.nn.relu))\n",
    "    \n",
    "    #오버피팅을 막기위한 Dropout\n",
    "    #중간중간 학습을 한하게끔하여, 학습의 치우침 방지\n",
    "    model.add(keras.layers.Dropout(0.4))\n",
    "    \n",
    "    \n",
    "    model.add(keras.layers.Dense(10))\n",
    "    return model"
   ]
  },
  {
   "cell_type": "code",
   "execution_count": 8,
   "metadata": {},
   "outputs": [
    {
     "name": "stdout",
     "output_type": "stream",
     "text": [
      "Model: \"sequential\"\n",
      "_________________________________________________________________\n",
      "Layer (type)                 Output Shape              Param #   \n",
      "=================================================================\n",
      "conv2d (Conv2D)              (None, 28, 28, 32)        320       \n",
      "_________________________________________________________________\n",
      "max_pooling2d (MaxPooling2D) (None, 14, 14, 32)        0         \n",
      "_________________________________________________________________\n",
      "conv2d_1 (Conv2D)            (None, 14, 14, 64)        18496     \n",
      "_________________________________________________________________\n",
      "max_pooling2d_1 (MaxPooling2 (None, 7, 7, 64)          0         \n",
      "_________________________________________________________________\n",
      "conv2d_2 (Conv2D)            (None, 7, 7, 128)         73856     \n",
      "_________________________________________________________________\n",
      "max_pooling2d_2 (MaxPooling2 (None, 4, 4, 128)         0         \n",
      "_________________________________________________________________\n",
      "flatten (Flatten)            (None, 2048)              0         \n",
      "_________________________________________________________________\n",
      "dense (Dense)                (None, 10)                20490     \n",
      "_________________________________________________________________\n",
      "dropout (Dropout)            (None, 10)                0         \n",
      "_________________________________________________________________\n",
      "dense_1 (Dense)              (None, 10)                110       \n",
      "=================================================================\n",
      "Total params: 113,272\n",
      "Trainable params: 113,272\n",
      "Non-trainable params: 0\n",
      "_________________________________________________________________\n"
     ]
    }
   ],
   "source": [
    "model = create_model()\n",
    "model.summary()"
   ]
  },
  {
   "cell_type": "code",
   "execution_count": 9,
   "metadata": {},
   "outputs": [
    {
     "name": "stdout",
     "output_type": "stream",
     "text": [
      "Model: \"sequential_1\"\n",
      "_________________________________________________________________\n",
      "Layer (type)                 Output Shape              Param #   \n",
      "=================================================================\n",
      "conv2d_3 (Conv2D)            (None, 28, 28, 32)        320       \n",
      "_________________________________________________________________\n",
      "max_pooling2d_3 (MaxPooling2 (None, 14, 14, 32)        0         \n",
      "_________________________________________________________________\n",
      "conv2d_4 (Conv2D)            (None, 14, 14, 64)        18496     \n",
      "_________________________________________________________________\n",
      "max_pooling2d_4 (MaxPooling2 (None, 7, 7, 64)          0         \n",
      "_________________________________________________________________\n",
      "conv2d_5 (Conv2D)            (None, 7, 7, 128)         73856     \n",
      "_________________________________________________________________\n",
      "max_pooling2d_5 (MaxPooling2 (None, 4, 4, 128)         0         \n",
      "_________________________________________________________________\n",
      "flatten_1 (Flatten)          (None, 2048)              0         \n",
      "_________________________________________________________________\n",
      "dense_2 (Dense)              (None, 10)                20490     \n",
      "_________________________________________________________________\n",
      "dropout_1 (Dropout)          (None, 10)                0         \n",
      "_________________________________________________________________\n",
      "dense_3 (Dense)              (None, 10)                110       \n",
      "=================================================================\n",
      "Total params: 113,272\n",
      "Trainable params: 113,272\n",
      "Non-trainable params: 0\n",
      "_________________________________________________________________\n"
     ]
    }
   ],
   "source": [
    "model = create_model()\n",
    "model.summary()"
   ]
  },
  {
   "cell_type": "code",
   "execution_count": 10,
   "metadata": {},
   "outputs": [],
   "source": [
    "def loss_fn(model, images, labels):\n",
    "    logits = model(images, training=True)\n",
    "    loss = tf.reduce_mean(tf.keras.losses.categorical_crossentropy(\n",
    "        y_pred=logits, y_true=labels, from_logits=True))    \n",
    "    return loss"
   ]
  },
  {
   "cell_type": "code",
   "execution_count": 11,
   "metadata": {},
   "outputs": [],
   "source": [
    "def grad(model, images, labels):\n",
    "    with tf.GradientTape() as tape:\n",
    "        loss = loss_fn(model, images, labels)\n",
    "    return tape.gradient(loss, model.variables)"
   ]
  },
  {
   "cell_type": "code",
   "execution_count": 12,
   "metadata": {},
   "outputs": [],
   "source": [
    "def evaluate(model, images, labels):\n",
    "    logits = model(images, training=False)\n",
    "    correct_prediction = tf.equal(tf.argmax(logits, 1), tf.argmax(labels, 1))\n",
    "    accuracy = tf.reduce_mean(tf.cast(correct_prediction, tf.float32))\n",
    "    return accuracy"
   ]
  },
  {
   "cell_type": "code",
   "execution_count": 13,
   "metadata": {},
   "outputs": [],
   "source": [
    "optimizer = tf.keras.optimizers.Adam(learning_rate=learning_rate)"
   ]
  },
  {
   "cell_type": "code",
   "execution_count": 14,
   "metadata": {},
   "outputs": [],
   "source": [
    "checkpoint = tf.train.Checkpoint(cnn=model)"
   ]
  },
  {
   "cell_type": "code",
   "execution_count": 15,
   "metadata": {},
   "outputs": [],
   "source": [
    "def train(model, images, labels):\n",
    "    grads = grad(model, images, labels)\n",
    "    optimizer.apply_gradients(zip(grads, model.trainable_variables))"
   ]
  },
  {
   "cell_type": "code",
   "execution_count": 16,
   "metadata": {},
   "outputs": [
    {
     "name": "stdout",
     "output_type": "stream",
     "text": [
      "Learning started. It takes sometime.\n",
      "Epoch: 1 loss = 1.52306628 train accuracy =  0.7129 test accuracy =  0.8617\n",
      "Epoch: 2 loss = 1.27899694 train accuracy =  0.9105 test accuracy =  0.9484\n",
      "Learning Finished!\n"
     ]
    }
   ],
   "source": [
    "print('Learning started. It takes sometime.')\n",
    "for epoch in range(training_epochs):\n",
    "    avg_loss = 0.\n",
    "    avg_train_acc = 0.\n",
    "    avg_test_acc = 0.\n",
    "    train_step = 0\n",
    "    test_step = 0    \n",
    "    \n",
    "    for images, labels in train_dataset:\n",
    "        train(model, images, labels)\n",
    "        #grads = grad(model, images, labels)                \n",
    "        #optimizer.apply_gradients(zip(grads, model.variables))\n",
    "        loss = loss_fn(model, images, labels)\n",
    "        acc = evaluate(model, images, labels)\n",
    "        avg_loss = avg_loss + loss\n",
    "        avg_train_acc = avg_train_acc + acc\n",
    "        train_step += 1\n",
    "    avg_loss = avg_loss / train_step\n",
    "    avg_train_acc = avg_train_acc / train_step\n",
    "    \n",
    "    for images, labels in test_dataset:        \n",
    "        acc = evaluate(model, images, labels)        \n",
    "        avg_test_acc = avg_test_acc + acc\n",
    "        test_step += 1    \n",
    "    avg_test_acc = avg_test_acc / test_step    \n",
    "\n",
    "    print('Epoch:', '{}'.format(epoch + 1), 'loss =', '{:.8f}'.format(avg_loss), \n",
    "          'train accuracy = ', '{:.4f}'.format(avg_train_acc), \n",
    "          'test accuracy = ', '{:.4f}'.format(avg_test_acc))\n",
    "    \n",
    "    checkpoint.save(file_prefix=checkpoint_prefix)\n",
    "\n",
    "print('Learning Finished!')"
   ]
  },
  {
   "cell_type": "code",
   "execution_count": null,
   "metadata": {},
   "outputs": [],
   "source": []
  }
 ],
 "metadata": {
  "kernelspec": {
   "display_name": "Python 3",
   "language": "python",
   "name": "python3"
  },
  "language_info": {
   "codemirror_mode": {
    "name": "ipython",
    "version": 3
   },
   "file_extension": ".py",
   "mimetype": "text/x-python",
   "name": "python",
   "nbconvert_exporter": "python",
   "pygments_lexer": "ipython3",
   "version": "3.7.6"
  }
 },
 "nbformat": 4,
 "nbformat_minor": 4
}
