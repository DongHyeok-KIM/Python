{
 "cells": [
  {
   "cell_type": "markdown",
   "metadata": {},
   "source": [
    "# Tenserflow\n",
    "## Simple_Liner_Regression_study\n",
    "\n",
    "\n",
    "\n",
    "단순 선형회귀란?   \n",
    "y = ax + b   \n",
    "\n",
    "회귀 : 어떤 표본(샘플)의 특징은 모수(전체)의 특징을 따라간다(회귀)\n",
    "\n",
    "\n",
    "Hypothesis(하이포시스, 예측, 가설) = H(x) = Wx + b   \n",
    "cost = 오차 = 에러 = 잔차 제곱의 합의 평균\n",
    "\n",
    "W = 기울기   \n",
    "b = 절편"
   ]
  },
  {
   "cell_type": "markdown",
   "metadata": {},
   "source": [
    "### 필요한 모듈 세팅\n",
    "텐서플로우와, 넘피를 임포트 해준다."
   ]
  },
  {
   "cell_type": "code",
   "execution_count": 1,
   "metadata": {},
   "outputs": [],
   "source": [
    "import tensorflow as tf\n",
    "import numpy as np"
   ]
  },
  {
   "cell_type": "markdown",
   "metadata": {},
   "source": [
    "### 데이터 세팅"
   ]
  },
  {
   "cell_type": "code",
   "execution_count": 2,
   "metadata": {},
   "outputs": [],
   "source": [
    "#x는 1,2,3,4,5 로 1씩 증가 되는 값을 세팅\n",
    "x_data = [1,2,3,4,5]\n",
    "#y는 2,4,6,8,10 으로 2씩 증가되는, 즉 x에 2를 곱한 값들로 세팅\n",
    "y_data = [2,4,6,8,10]"
   ]
  },
  {
   "cell_type": "markdown",
   "metadata": {},
   "source": [
    "### 데이터 확인"
   ]
  },
  {
   "cell_type": "code",
   "execution_count": 3,
   "metadata": {},
   "outputs": [
    {
     "data": {
      "image/png": "[encoded data removed]",
      "text/plain": [
       "<Figure size 432x288 with 1 Axes>"
      ]
     },
     "metadata": {
      "needs_background": "light"
     },
     "output_type": "display_data"
    }
   ],
   "source": [
    "import matplotlib.pyplot as plt\n",
    "\n",
    "plt.plot(x_data, y_data, 'o')\n",
    "plt.ylim(0,13)\n",
    "plt.show()"
   ]
  },
  {
   "cell_type": "markdown",
   "metadata": {},
   "source": [
    "앞서 단순선형회귀 방정식을.  \n",
    "y = Wx + b라고 했다.\n",
    "\n",
    "그렇다면 위 데이터로 위방정식을 구한다면,   \n",
    "W = 2   \n",
    "b = 0   \n",
    "라는 해답을 구할수 있는데,   \n",
    "이 값들을 텐서플로우로 찾아야한다."
   ]
  },
  {
   "cell_type": "markdown",
   "metadata": {},
   "source": [
    "### 초기값 설정"
   ]
  },
  {
   "cell_type": "code",
   "execution_count": 4,
   "metadata": {},
   "outputs": [],
   "source": [
    "#W,b는 랜덤값으로로 설정이 가능함\n",
    "W = tf.Variable(5.0)\n",
    "b = tf.Variable(0.5)\n",
    "\n",
    "#y=Wx + b\n",
    "hypothesis = W * x_data+b"
   ]
  },
  {
   "cell_type": "markdown",
   "metadata": {},
   "source": [
    "### 초기 값에 따른 가설값 확인"
   ]
  },
  {
   "cell_type": "code",
   "execution_count": 5,
   "metadata": {},
   "outputs": [
    {
     "data": {
      "text/plain": [
       "<tf.Tensor: shape=(5,), dtype=float32, numpy=array([ 5.5, 10.5, 15.5, 20.5, 25.5], dtype=float32)>"
      ]
     },
     "execution_count": 5,
     "metadata": {},
     "output_type": "execute_result"
    }
   ],
   "source": [
    "#초기 값에 따른 가설값은 5.5, 10.5, 15.5, 20.5, 25.5 로 확인된다.\n",
    "# 5.5 = 5.0 * 1 + 0.5 등등\n",
    "hypothesis = W * x_data+b\n",
    "hypothesis"
   ]
  },
  {
   "cell_type": "code",
   "execution_count": 6,
   "metadata": {},
   "outputs": [
    {
     "data": {
      "text/plain": [
       "array([ 5.5, 10.5, 15.5, 20.5, 25.5], dtype=float32)"
      ]
     },
     "execution_count": 6,
     "metadata": {},
     "output_type": "execute_result"
    }
   ],
   "source": [
    "#numpy를 활용해 확인가능\n",
    "hypothesis.numpy()"
   ]
  },
  {
   "cell_type": "code",
   "execution_count": 7,
   "metadata": {},
   "outputs": [
    {
     "data": {
      "text/plain": [
       "(<tf.Variable 'Variable:0' shape=() dtype=float32, numpy=5.0>,\n",
       " <tf.Variable 'Variable:0' shape=() dtype=float32, numpy=0.5>)"
      ]
     },
     "execution_count": 7,
     "metadata": {},
     "output_type": "execute_result"
    }
   ],
   "source": [
    "#초기값으로 주어진 W, b값도 다시한번 확인\n",
    "W , b"
   ]
  },
  {
   "cell_type": "code",
   "execution_count": 8,
   "metadata": {},
   "outputs": [
    {
     "data": {
      "text/plain": [
       "(5.0, 0.5)"
      ]
     },
     "execution_count": 8,
     "metadata": {},
     "output_type": "execute_result"
    }
   ],
   "source": [
    "#마찬가지로 numpy로 확인가능\n",
    "W.numpy(), b.numpy()"
   ]
  },
  {
   "cell_type": "code",
   "execution_count": 9,
   "metadata": {},
   "outputs": [
    {
     "data": {
      "image/png": "[encoded data removed]",
      "text/plain": [
       "<Figure size 432x288 with 1 Axes>"
      ]
     },
     "metadata": {
      "needs_background": "light"
     },
     "output_type": "display_data"
    }
   ],
   "source": [
    "#그래프로 확인하기\n",
    "#빨간선(선형)에 표시된 값은 이번에 구한 가설(y = hypothesis)이다.\n",
    "#저 선형그래프를 초기 초기 데이터에 가장 근사하게 그려질 수있도록 만들어 줄 것이다.\n",
    "plt.plot(x_data, hypothesis.numpy(), 'r-+')\n",
    "plt.plot(x_data, y_data, 'go')\n",
    "plt.ylim(0, 30)\n",
    "plt.show()\n"
   ]
  },
  {
   "cell_type": "markdown",
   "metadata": {},
   "source": [
    "### cost\n",
    "cost란 앞서, 잔차 제곱의 합의 평균이라고 했다.   \n",
    "이는 tensorflow에 직접 구현되어있는 함수가 없다.\n",
    "두가지 함수를 섞어서 사용해야한다.\n",
    "바로 tf.reduce_mean(평균)과 tf.square(제곱)이다."
   ]
  },
  {
   "cell_type": "code",
   "execution_count": 10,
   "metadata": {},
   "outputs": [
    {
     "data": {
      "text/plain": [
       "2.5"
      ]
     },
     "execution_count": 10,
     "metadata": {},
     "output_type": "execute_result"
    }
   ],
   "source": [
    "#reduce_mean예시\n",
    "v = [1.,2.,3.,4.]\n",
    "tf.reduce_mean(v).numpy()"
   ]
  },
  {
   "cell_type": "code",
   "execution_count": 11,
   "metadata": {},
   "outputs": [
    {
     "data": {
      "text/plain": [
       "25"
      ]
     },
     "execution_count": 11,
     "metadata": {},
     "output_type": "execute_result"
    }
   ],
   "source": [
    "#square예시\n",
    "tf.square(5).numpy()"
   ]
  },
  {
   "cell_type": "code",
   "execution_count": 12,
   "metadata": {},
   "outputs": [
    {
     "data": {
      "text/plain": [
       "108.25"
      ]
     },
     "execution_count": 12,
     "metadata": {},
     "output_type": "execute_result"
    }
   ],
   "source": [
    "#초기 cost도출\n",
    "#cost는 에러, 오차, 이기 때문에 최대한 0에 수렴한 값이 되는것을 목표로 해야한다.\n",
    "cost = tf.reduce_mean(tf.square(hypothesis - y_data))\n",
    "cost.numpy()"
   ]
  },
  {
   "cell_type": "markdown",
   "metadata": {},
   "source": [
    "### Gradient Descent 경사하강법\n",
    "#### minimize cost(W,b)\n",
    "\n",
    "경사하강법 : cost의 최소값을 찾는 알고리즘"
   ]
  },
  {
   "cell_type": "code",
   "execution_count": 13,
   "metadata": {},
   "outputs": [
    {
     "data": {
      "text/plain": [
       "(69.0, 19.0)"
      ]
     },
     "execution_count": 13,
     "metadata": {},
     "output_type": "execute_result"
    }
   ],
   "source": [
    "#텐서플로우에서 경사하강법은 \n",
    "#tf.GradientTape()을 with 와 함께사용한다.\n",
    "\n",
    "\n",
    "#참고 : https://www.tensorflow.org/tutorials/customization/autodiff?hl=ko\n",
    "#with구문안에 있는 모든 연산을 tape에 저장함\n",
    "with tf.GradientTape() as tape:\n",
    "    hypothesis = W * x_data + b\n",
    "    cost = tf.reduce_mean(tf.square(hypothesis - y_data))\n",
    "    \n",
    "#gradient cost를 W,b로 각각 미분한 값을 W_grad와 b_grade에 입력해준다.\n",
    "W_grad, b_grad = tape.gradient(cost, [W,b])\n",
    "W_grad.numpy(), b_grad.numpy()"
   ]
  },
  {
   "cell_type": "code",
   "execution_count": 14,
   "metadata": {},
   "outputs": [
    {
     "data": {
      "text/plain": [
       "(4.31, 0.31)"
      ]
     },
     "execution_count": 14,
     "metadata": {},
     "output_type": "execute_result"
    }
   ],
   "source": [
    "#learning_rate란 미분한 값을 얼마만큼의 비중을두고 반영할 것인가 정하는 것이다\n",
    "#0.01, 0.001, 0.0001로 흔히 정한다고함.\n",
    "#작으면 작을수록 정확한 값을 찾는데 유리함, 그만큼 많은 수를 반복 해야하긴함\n",
    "learning_rate = 0.01\n",
    "#assign_sub란 -= 와 같은 기능이다.\n",
    "W.assign_sub(learning_rate * W_grad)#5(W초기값) - 0.69 = 4.31\n",
    "b.assign_sub(learning_rate * b_grad)#0.5(b초기값) - 0.19 = 0.49\n",
    "W.numpy(), b.numpy()\n"
   ]
  },
  {
   "cell_type": "markdown",
   "metadata": {},
   "source": [
    "### 새로운 W,b가 반영된 hypothesis 확인"
   ]
  },
  {
   "cell_type": "code",
   "execution_count": 15,
   "metadata": {},
   "outputs": [
    {
     "data": {
      "image/png": "[encoded data removed]",
      "text/plain": [
       "<Figure size 432x288 with 1 Axes>"
      ]
     },
     "metadata": {
      "needs_background": "light"
     },
     "output_type": "display_data"
    },
    {
     "name": "stdout",
     "output_type": "stream",
     "text": [
      "tf.Tensor([ 4.62      8.93     13.240001 17.55     21.859999], shape=(5,), dtype=float32)\n"
     ]
    }
   ],
   "source": [
    "#확인하기 위하여 한번더 선언해줌\n",
    "hypothesis = W * x_data + b\n",
    "plt.plot(x_data, hypothesis.numpy(), 'r-+')\n",
    "plt.plot(x_data, y_data, 'go')\n",
    "plt.ylim(0, 30)\n",
    "plt.show()\n",
    "print(hypothesis)\n",
    "\n",
    "#점선은 기본 데이터,\n",
    "#빨간 선형그래프는 반영된 W,b와 데이터의 계산으로 표시된 것이다.\n",
    "#즉 \n",
    "#초기값설정에서 5.5 = 5 x 1 + 0.1\n",
    "#경사하강법1회 4.8 = 4.31 x 1 + 0.49\n",
    "#로 변화 되었다. 이것을 반복을 통하여 최적의 값을 찾아야한다."
   ]
  },
  {
   "cell_type": "markdown",
   "metadata": {},
   "source": [
    "### 코드 합본\n",
    "### 경사하강법 반복을 통한 Simple liner Regression\n",
    "\n",
    "간단한 방정식이이였기 때문에 내가 생각한 기대값은.  \n",
    "W =2 , b=0 이였다.   \n",
    "하지만 텐서플로우로 찾은값은    \n",
    "W = 2.06, b=-0.22 로 비교적 값에 차이가 있었다.\n",
    "\n",
    "그래서,   \n",
    "\n",
    "초기값을 4, 0.5로 조작,  learning_rate를 조작, 반복수 조작을 해보았다, \n",
    "위 경우 모두 값을 찾는데 영향을 주었다.\n",
    "\n",
    "반복을 너무 많이하면 계산시간이 어마어마하게 걸린다.   "
   ]
  },
  {
   "cell_type": "code",
   "execution_count": 16,
   "metadata": {},
   "outputs": [
    {
     "name": "stdout",
     "output_type": "stream",
     "text": [
      "    0|    3.9953|    0.4987| 50.250000\n",
      " 1000|    2.1988|    0.0029|  0.440425\n",
      " 2000|    2.0303|   -0.0420|  0.004252\n",
      " 3000|    2.0142|   -0.0448|  0.000407\n",
      " 4000|    2.0123|   -0.0437|  0.000349\n",
      " 5000|    2.0117|   -0.0423|  0.000326\n",
      " 6000|    2.0113|   -0.0409|  0.000305\n",
      " 7000|    2.0109|   -0.0396|  0.000285\n",
      " 8000|    2.0106|   -0.0382|  0.000266\n",
      " 9000|    2.0102|   -0.0370|  0.000249\n",
      "10000|    2.0099|   -0.0357|  0.000233\n"
     ]
    },
    {
     "data": {
      "text/plain": [
       "(0.0, 30.0)"
      ]
     },
     "execution_count": 16,
     "metadata": {},
     "output_type": "execute_result"
    },
    {
     "data": {
      "image/png": "[encoded data removed]",
      "text/plain": [
       "<Figure size 432x288 with 1 Axes>"
      ]
     },
     "metadata": {
      "needs_background": "light"
     },
     "output_type": "display_data"
    }
   ],
   "source": [
    "import tensorflow as tf\n",
    "import numpy as np\n",
    "\n",
    "x_data = [1., 2., 3., 4., 5.]\n",
    "y_data = [2., 4., 6., 8., 10.]\n",
    "\n",
    "W = tf.Variable(4.0)\n",
    "b = tf.Variable(0.5)\n",
    "learning_rate = 0.0001\n",
    "\n",
    "\n",
    "for i in range(10001):\n",
    "    with tf.GradientTape() as tape:\n",
    "        hypothesis = W * x_data + b\n",
    "        cost = tf.reduce_mean(tf.square(hypothesis - y_data))\n",
    "    W_grad, b_grad = tape.gradient(cost, [W, b])\n",
    "    W.assign_sub(learning_rate * W_grad)\n",
    "    b.assign_sub(learning_rate * b_grad)\n",
    "    if i % 1000 == 0:\n",
    "        print(\"{:5}|{:10.4f}|{:10.4f}|{:10.6f}\".format(i, W.numpy(), b.numpy(), cost))\n",
    "    \n",
    "plt.plot(x_data, y_data, 'o')\n",
    "plt.plot(x_data, hypothesis.numpy(), 'r-')\n",
    "plt.ylim(0, 30)"
   ]
  },
  {
   "cell_type": "code",
   "execution_count": 17,
   "metadata": {},
   "outputs": [
    {
     "data": {
      "text/plain": [
       "(<tf.Variable 'Variable:0' shape=() dtype=float32, numpy=2.00991>,\n",
       " <tf.Variable 'Variable:0' shape=() dtype=float32, numpy=-0.03574141>)"
      ]
     },
     "execution_count": 17,
     "metadata": {},
     "output_type": "execute_result"
    }
   ],
   "source": [
    "W,b"
   ]
  },
  {
   "cell_type": "code",
   "execution_count": null,
   "metadata": {},
   "outputs": [],
   "source": []
  }
 ],
 "metadata": {
  "kernelspec": {
   "display_name": "Python 3",
   "language": "python",
   "name": "python3"
  },
  "language_info": {
   "codemirror_mode": {
    "name": "ipython",
    "version": 3
   },
   "file_extension": ".py",
   "mimetype": "text/x-python",
   "name": "python",
   "nbconvert_exporter": "python",
   "pygments_lexer": "ipython3",
   "version": "3.7.6"
  }
 },
 "nbformat": 4,
 "nbformat_minor": 4
}
