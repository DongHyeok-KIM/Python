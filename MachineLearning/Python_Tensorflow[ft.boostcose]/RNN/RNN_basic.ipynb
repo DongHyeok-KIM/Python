{
 "cells": [
  {
   "cell_type": "markdown",
   "metadata": {},
   "source": [
    "# RNN basics"
   ]
  },
  {
   "cell_type": "code",
   "execution_count": 4,
   "metadata": {},
   "outputs": [
    {
     "name": "stdout",
     "output_type": "stream",
     "text": [
      "2.1.0\n"
     ]
    }
   ],
   "source": [
    "#모듈세팅\n",
    "import numpy as np\n",
    "import tensorflow as tf\n",
    "from tensorflow import keras\n",
    "from tensorflow.keras import layers\n",
    "from tensorflow.keras import Sequential, Model\n",
    "print(tf.__version__)\n"
   ]
  },
  {
   "cell_type": "code",
   "execution_count": 6,
   "metadata": {},
   "outputs": [],
   "source": [
    "#one hot encoding hello\n",
    "h = [1, 0, 0, 0]\n",
    "e = [0, 1, 0, 0]\n",
    "l = [0, 0, 1, 0]\n",
    "o = [0, 0, 0, 1]"
   ]
  },
  {
   "cell_type": "code",
   "execution_count": 7,
   "metadata": {},
   "outputs": [
    {
     "name": "stdout",
     "output_type": "stream",
     "text": [
      "x_data : [[[1. 0. 0. 0.]]], shape: (1, 1, 4)\n",
      "output : [[[0.5138632 0.296989 ]]], shape: (1, 1, 2)\n",
      "states : [[0.5138632 0.296989 ]], shape: (1, 2)\n"
     ]
    }
   ],
   "source": [
    "x_data = np.array([[h]], dtype=np.float32)\n",
    "\n",
    "hidden_size =2\n",
    "cell = layers.SimpleRNNCell(units = hidden_size)\n",
    "rnn = layers.RNN(cell, return_sequences=True, return_state =True)\n",
    "outputs, states = rnn(x_data)\n",
    "\n",
    "print('x_data : {}, shape: {}'.format(x_data, x_data.shape))\n",
    "print('output : {}, shape: {}'.format(outputs, outputs.shape))\n",
    "print('states : {}, shape: {}'.format(states, states.shape))"
   ]
  },
  {
   "cell_type": "code",
   "execution_count": null,
   "metadata": {},
   "outputs": [],
   "source": []
  }
 ],
 "metadata": {
  "kernelspec": {
   "display_name": "Python 3",
   "language": "python",
   "name": "python3"
  },
  "language_info": {
   "codemirror_mode": {
    "name": "ipython",
    "version": 3
   },
   "file_extension": ".py",
   "mimetype": "text/x-python",
   "name": "python",
   "nbconvert_exporter": "python",
   "pygments_lexer": "ipython3",
   "version": "3.7.6"
  }
 },
 "nbformat": 4,
 "nbformat_minor": 4
}
