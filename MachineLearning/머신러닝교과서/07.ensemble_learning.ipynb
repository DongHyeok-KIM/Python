{
 "cells": [
  {
   "cell_type": "markdown",
   "metadata": {},
   "source": [
    "앙상블 학습의 목표는 여러분류기를 하느의 메타 분류기로 연결하여 개별 분류기보다 더 좋은 일반화 성능을 달성하는 것.    \n",
    "그 중 과반수 투표가 많이 쓰임.   \n",
    "분류기의 과반수가 예측한 클래스 레이블을 선택하는 단순한 방법(50%이상 투표를 받은 클래스 레이블을 선택함)    \n",
    "다수결 투표도 있음"
   ]
  },
  {
   "cell_type": "code",
   "execution_count": null,
   "metadata": {},
   "outputs": [],
   "source": []
  }
 ],
 "metadata": {
  "kernelspec": {
   "display_name": "Python 3",
   "language": "python",
   "name": "python3"
  },
  "language_info": {
   "codemirror_mode": {
    "name": "ipython",
    "version": 3
   },
   "file_extension": ".py",
   "mimetype": "text/x-python",
   "name": "python",
   "nbconvert_exporter": "python",
   "pygments_lexer": "ipython3",
   "version": "3.7.6"
  }
 },
 "nbformat": 4,
 "nbformat_minor": 4
}
