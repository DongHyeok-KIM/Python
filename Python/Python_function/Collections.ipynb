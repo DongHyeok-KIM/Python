{
 "cells": [
  {
   "cell_type": "markdown",
   "metadata": {},
   "source": [
    "# collections\n",
    "\n",
    "콜랙션이란?   \n",
    "리스트, 튜플, 사전형 형식에 대한 확장 모듈이다.\n",
    "\n",
    "앞서말한 3가지 형식에 대해 편의성, 실행, 효율을제공한다.   \n",
    "\n",
    "종류로는 아래 5가지가 있다.\n",
    "##### from collections import deque\n",
    "##### from collections import Counter\n",
    "##### from collections import OrderedDict\n",
    "##### from collections import defaultdict\n",
    "##### from collections import namedtuple\n",
    "\n"
   ]
  },
  {
   "cell_type": "markdown",
   "metadata": {},
   "source": [
    "### deque\n",
    "Stack 과 Queue를 지원하는 모듈로 기억하자.\n",
    "정보처리기사에서 공부한 스텍과 큐다.   \n",
    "list에 비해 효율적인 자료 저장 방식을 지원한다고 한다.\n",
    "\n",
    "### deque_예시\n"
   ]
  },
  {
   "cell_type": "code",
   "execution_count": 18,
   "metadata": {},
   "outputs": [],
   "source": [
    "from collections import deque"
   ]
  },
  {
   "cell_type": "code",
   "execution_count": 75,
   "metadata": {},
   "outputs": [
    {
     "name": "stdout",
     "output_type": "stream",
     "text": [
      "deque([0, 1, 2, 3, 4, 5, 6, 7, 8, 9])\n",
      "<class 'collections.deque'>\n"
     ]
    }
   ],
   "source": [
    "#deque 선언하여, 0~9까지의 수를 저장해줌\n",
    "deque_list = deque()\n",
    "for i in range(10):\n",
    "    deque_list.append(i)\n",
    "print(deque_list)#일반적인 리스트 [] 와는 다른 deque([])로 생성됨\n",
    "print(type(deque_list))#type은 collections.deque로 확인"
   ]
  },
  {
   "cell_type": "code",
   "execution_count": 76,
   "metadata": {},
   "outputs": [
    {
     "name": "stdout",
     "output_type": "stream",
     "text": [
      "deque([777, 0, 1, 2, 3, 4, 5, 6, 7, 8, 9])\n"
     ]
    }
   ],
   "source": [
    "deque_list.appendleft(777)#appendleft로 왼쪽에 원하는 요소 삽입가능\n",
    "print(deque_list)"
   ]
  },
  {
   "cell_type": "code",
   "execution_count": 77,
   "metadata": {},
   "outputs": [
    {
     "name": "stdout",
     "output_type": "stream",
     "text": [
      "deque([777, 0, 1, 2, 3, 4, 5, 6, 7, 8, 9, 999])\n"
     ]
    }
   ],
   "source": [
    "deque_list.append(999)#디폴트로 오른쪽에 들어감\n",
    "print(deque_list)"
   ]
  },
  {
   "cell_type": "code",
   "execution_count": 78,
   "metadata": {},
   "outputs": [
    {
     "name": "stdout",
     "output_type": "stream",
     "text": [
      "deque([8, 9, 999, 777, 0, 1, 2, 3, 4, 5, 6, 7])\n"
     ]
    }
   ],
   "source": [
    "deque_list.rotate(3)#값을 오른쪽으로 3칸 이동한다. 리스를 벗어나게 되는 오른쪽 3개의 값들은 왼쪽으로 온다.\n",
    "print(deque_list)"
   ]
  },
  {
   "cell_type": "code",
   "execution_count": 79,
   "metadata": {},
   "outputs": [
    {
     "name": "stdout",
     "output_type": "stream",
     "text": [
      "deque([7, 6, 5, 4, 3, 2, 1, 0, 777, 999, 9, 8])\n"
     ]
    }
   ],
   "source": [
    "print(deque(reversed(deque_list)))#요소의 순서를 역으로 한다."
   ]
  },
  {
   "cell_type": "code",
   "execution_count": 80,
   "metadata": {},
   "outputs": [
    {
     "name": "stdout",
     "output_type": "stream",
     "text": [
      "deque([8, 9, 999, 777, 0, 1, 2, 3, 4, 5, 6, 7, 'ㄱ', 555, 'A'])\n"
     ]
    }
   ],
   "source": [
    "deque_list.extend(['ㄱ',555,'A'])#요소에 값을 추가함 디폴트는 오른쪽\n",
    "print(deque_list)"
   ]
  },
  {
   "cell_type": "code",
   "execution_count": 81,
   "metadata": {},
   "outputs": [
    {
     "name": "stdout",
     "output_type": "stream",
     "text": [
      "deque([888, 'donut', '', 8, 9, 999, 777, 0, 1, 2, 3, 4, 5, 6, 7, 'ㄱ', 555, 'A'])\n"
     ]
    }
   ],
   "source": [
    "deque_list.extendleft(['','donut',888])#왼쪽으로 추가 가능\n",
    "print(deque_list)"
   ]
  },
  {
   "cell_type": "code",
   "execution_count": 82,
   "metadata": {},
   "outputs": [
    {
     "name": "stdout",
     "output_type": "stream",
     "text": [
      "A\n",
      "deque([888, 'donut', '', 8, 9, 999, 777, 0, 1, 2, 3, 4, 5, 6, 7, 'ㄱ', 555])\n"
     ]
    }
   ],
   "source": [
    "print(deque_list.pop())#제일 오른쪽 값을 삭제및 선택\n",
    "print(deque_list)#맨 오른쪽 값이 삭제된 상태"
   ]
  },
  {
   "cell_type": "markdown",
   "metadata": {},
   "source": [
    "### deque 와 list속도비교\n"
   ]
  },
  {
   "cell_type": "code",
   "execution_count": 84,
   "metadata": {},
   "outputs": [
    {
     "name": "stdout",
     "output_type": "stream",
     "text": [
      "11.865183115005493 초\n"
     ]
    }
   ],
   "source": [
    "from collections import deque\n",
    "import time\n",
    "\n",
    "시작시간 = time.time()\n",
    "deque_list = deque()\n",
    "\n",
    "for i in range(10000):\n",
    "    for i in range(10000):\n",
    "        deque_list.append(i)\n",
    "        deque_list.pop()\n",
    "print(time.time() - 시작시간, \"초\")"
   ]
  },
  {
   "cell_type": "code",
   "execution_count": 85,
   "metadata": {},
   "outputs": [
    {
     "name": "stdout",
     "output_type": "stream",
     "text": [
      "28.828917980194092 초\n"
     ]
    }
   ],
   "source": [
    "from collections import deque\n",
    "import time\n",
    "\n",
    "시작시간 = time.time()\n",
    "일반리스트 = []\n",
    "\n",
    "for i in range(10000):\n",
    "    for i in range(10000):\n",
    "        일반리스트.append(i)\n",
    "        일반리스트.pop()\n",
    "print(time.time() - 시작시간, \"초\")"
   ]
  },
  {
   "cell_type": "markdown",
   "metadata": {},
   "source": [
    "### OrderedDict\n",
    "\n",
    "일반 dict형과 달리 데이터의 순서를 조작하여 dict를 반환한다.\n",
    "\n",
    "### OrderedDict_예시"
   ]
  },
  {
   "cell_type": "code",
   "execution_count": 115,
   "metadata": {},
   "outputs": [
    {
     "name": "stdout",
     "output_type": "stream",
     "text": [
      "x 1\n",
      "y 2\n",
      "z 3\n",
      "l 9\n",
      "{'x': 1, 'y': 2, 'z': 3, 'l': 9}\n"
     ]
    }
   ],
   "source": [
    "test1 = {}\n",
    "test1['x'] = 1\n",
    "test1['y'] = 2\n",
    "test1['z'] = 3\n",
    "test1['l'] = 9\n",
    "\n",
    "for i,v in test1.items():\n",
    "    print(i,v)\n",
    "print(test1)"
   ]
  },
  {
   "cell_type": "code",
   "execution_count": 116,
   "metadata": {},
   "outputs": [
    {
     "name": "stdout",
     "output_type": "stream",
     "text": [
      "x 1\n",
      "y 2\n",
      "z 3\n",
      "a 9\n",
      "OrderedDict([('x', 1), ('y', 2), ('z', 3), ('a', 9)])\n"
     ]
    }
   ],
   "source": [
    "from collections import OrderedDict\n",
    "\n",
    "test2 = OrderedDict()\n",
    "test2['x'] = 1\n",
    "test2['y'] = 2\n",
    "test2['z'] = 3\n",
    "test2['a'] = 9\n",
    "\n",
    "for i,v in test2.items():\n",
    "    print(i,v)\n",
    "print(test2)"
   ]
  },
  {
   "cell_type": "code",
   "execution_count": 113,
   "metadata": {},
   "outputs": [
    {
     "name": "stdout",
     "output_type": "stream",
     "text": [
      "a 9\n",
      "x 1\n",
      "y 2\n",
      "z 3\n"
     ]
    }
   ],
   "source": [
    "#key값을 기준으로 정렬\n",
    "for i,v in OrderedDict(sorted(test2.items(),key =lambda x: x[0])).items():\n",
    "    print(i,v)"
   ]
  },
  {
   "cell_type": "code",
   "execution_count": 117,
   "metadata": {},
   "outputs": [
    {
     "name": "stdout",
     "output_type": "stream",
     "text": [
      "x 1\n",
      "y 2\n",
      "z 3\n",
      "a 9\n"
     ]
    }
   ],
   "source": [
    "#value값을 기준으로 정렬\n",
    "for i,v in OrderedDict(sorted(test2.items(),key =lambda x: x[1])).items():\n",
    "    print(i,v)"
   ]
  },
  {
   "cell_type": "markdown",
   "metadata": {},
   "source": [
    "### defaultdict\n",
    "\n",
    "Dict에 기본값을 지정하고, 신규값 생성시 활용한다."
   ]
  },
  {
   "cell_type": "code",
   "execution_count": 172,
   "metadata": {},
   "outputs": [
    {
     "name": "stdout",
     "output_type": "stream",
     "text": [
      "2\n"
     ]
    }
   ],
   "source": [
    "from collections import defaultdict\n",
    "d= defaultdict()\n",
    "d = defaultdict(lambda: 2) #디폴트값 2 설정\n",
    "print(d[\"first\"])"
   ]
  },
  {
   "cell_type": "code",
   "execution_count": 173,
   "metadata": {},
   "outputs": [
    {
     "name": "stdout",
     "output_type": "stream",
     "text": [
      "['아침', '점심', '저녁으로', '라면을', '밥으로', '먹자', '아침에', '일찍', '일어나서', '밥을', '먹자', '점심엔', '밥을', '안먹고', '치킨을', '먹자']\n"
     ]
    }
   ],
   "source": [
    "text = \"아침 점심 저녁으로 라면을 밥으로 먹자 아침에 일찍 일어나서 밥을 먹자 점심엔 밥을 안먹고 치킨을 먹자\".split()\n",
    "print(text)"
   ]
  },
  {
   "cell_type": "code",
   "execution_count": 175,
   "metadata": {},
   "outputs": [
    {
     "name": "stdout",
     "output_type": "stream",
     "text": [
      "먹자 13\n",
      "밥을 12\n",
      "아침 11\n",
      "점심 11\n",
      "저녁으로 11\n",
      "라면을 11\n",
      "밥으로 11\n",
      "아침에 11\n",
      "일찍 11\n",
      "일어나서 11\n",
      "점심엔 11\n",
      "안먹고 11\n",
      "치킨을 11\n"
     ]
    }
   ],
   "source": [
    "from collections import OrderedDict\n",
    "word_count = defaultdict(object)\n",
    "#디폴트 값을 10으로 지정했기 때문에 모든 요소가 10부터 카운트가 된다.\n",
    "word_count = defaultdict(lambda : 10)\n",
    "for word in text:\n",
    "    word_count[word] +=1\n",
    "for i, v in OrderedDict(sorted(word_count.items(),key=lambda t: t[1],reverse =True)).items():\n",
    "    print(i,v)"
   ]
  },
  {
   "cell_type": "markdown",
   "metadata": {},
   "source": [
    "### Counter\n",
    "\n",
    "숫자를 센다고 생각하면 이해하기 쉽다.   \n",
    "단어 단위로 수를샌다."
   ]
  },
  {
   "cell_type": "code",
   "execution_count": 141,
   "metadata": {},
   "outputs": [
    {
     "name": "stdout",
     "output_type": "stream",
     "text": [
      "Counter({'배': 1, '고': 1, '프': 1, '다': 1})\n",
      "Counter({'l': 2, 'H': 1, 'e': 1, 'o': 1, 'w': 1})\n"
     ]
    }
   ],
   "source": [
    "from collections import Counter\n",
    "\n",
    "test1 = Counter()\n",
    "test1 = Counter('배고프다')\n",
    "\n",
    "print(test1)\n",
    "\n",
    "test1 = Counter('Hellow')\n",
    "print(test1)"
   ]
  },
  {
   "cell_type": "code",
   "execution_count": 176,
   "metadata": {},
   "outputs": [
    {
     "name": "stdout",
     "output_type": "stream",
     "text": [
      "Counter({'aaa': 5, 'bbb': 2})\n",
      "['aaa', 'aaa', 'aaa', 'aaa', 'aaa', 'bbb', 'bbb']\n"
     ]
    }
   ],
   "source": [
    "#다음과 같이 dict선언을 통해 리스트를 생성하는것 또한 가능하다.\n",
    "test2 = Counter({'aaa' : 5, 'bbb' : 2})\n",
    "print(test2)\n",
    "print(list(test2.elements()))"
   ]
  },
  {
   "cell_type": "code",
   "execution_count": 164,
   "metadata": {},
   "outputs": [
    {
     "name": "stdout",
     "output_type": "stream",
     "text": [
      "Counter({'d': 201, 'b': 40, 'c': 33, 'a': 14})\n",
      "Counter({'d': 1})\n",
      "Counter({'c': 27, 'a': 6})\n",
      "Counter({'d': 100, 'b': 20, 'a': 4, 'c': 3})\n",
      "Counter({'d': 101, 'c': 30, 'b': 20, 'a': 10})\n"
     ]
    }
   ],
   "source": [
    "#연산기능도 제공한다.\n",
    "#0과 음수는 표현하지 않는듯 하다.\n",
    "test3 = Counter(a=4, b=20, c=3, d=101)\n",
    "test4 = Counter(a=10, b=20, c=30, d=100)\n",
    "print(test3 + test4)\n",
    "print(test3 - test4)\n",
    "print(test4 - test3)\n",
    "print(test3 & test4)\n",
    "print(test3 | test4)\n"
   ]
  },
  {
   "cell_type": "markdown",
   "metadata": {},
   "source": [
    "### namedtuple\n",
    "\n",
    "사실 이부분은 어렵다.. 아직 이해가 덜 되는 부분임으로 조금더 공부를 하고 익혀야겠다."
   ]
  },
  {
   "cell_type": "code",
   "execution_count": 168,
   "metadata": {},
   "outputs": [
    {
     "name": "stdout",
     "output_type": "stream",
     "text": [
      "33\n"
     ]
    }
   ],
   "source": [
    "from collections import namedtuple\n",
    "test = namedtuple('test', ['x','y'])\n",
    "t = test(11,y=22)\n",
    "print(t[0] + t[1])"
   ]
  },
  {
   "cell_type": "code",
   "execution_count": 171,
   "metadata": {},
   "outputs": [
    {
     "name": "stdout",
     "output_type": "stream",
     "text": [
      "11 22\n",
      "33\n",
      "test(x=11, y=22)\n"
     ]
    }
   ],
   "source": [
    "x,y = t\n",
    "print(x,y)\n",
    "print(t.x + t.y)\n",
    "print(test(x=11,y=22))"
   ]
  },
  {
   "cell_type": "code",
   "execution_count": null,
   "metadata": {},
   "outputs": [],
   "source": []
  }
 ],
 "metadata": {
  "kernelspec": {
   "display_name": "Python 3",
   "language": "python",
   "name": "python3"
  },
  "language_info": {
   "codemirror_mode": {
    "name": "ipython",
    "version": 3
   },
   "file_extension": ".py",
   "mimetype": "text/x-python",
   "name": "python",
   "nbconvert_exporter": "python",
   "pygments_lexer": "ipython3",
   "version": "3.7.6"
  }
 },
 "nbformat": 4,
 "nbformat_minor": 4
}
