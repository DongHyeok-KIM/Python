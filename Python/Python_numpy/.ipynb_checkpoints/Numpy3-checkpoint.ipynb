{
 "cells": [
  {
   "cell_type": "markdown",
   "metadata": {},
   "source": [
    "# Numpy3"
   ]
  },
  {
   "cell_type": "code",
   "execution_count": 86,
   "metadata": {},
   "outputs": [],
   "source": [
    "import numpy as np"
   ]
  },
  {
   "cell_type": "markdown",
   "metadata": {},
   "source": [
    "### numpy all&any\n",
    "any  = 배열 원소값중 어떤 값들 중 하나라도 조건에 만족하면 True를 반환\n",
    "\n",
    "all = 모든 원소값이 조건을 만족하면 True를 반환"
   ]
  },
  {
   "cell_type": "code",
   "execution_count": 87,
   "metadata": {},
   "outputs": [
    {
     "data": {
      "text/plain": [
       "array([0, 1, 2, 3, 4, 5, 6, 7, 8, 9])"
      ]
     },
     "execution_count": 87,
     "metadata": {},
     "output_type": "execute_result"
    }
   ],
   "source": [
    "test = np.arange(10)\n",
    "test"
   ]
  },
  {
   "cell_type": "code",
   "execution_count": 88,
   "metadata": {},
   "outputs": [
    {
     "data": {
      "text/plain": [
       "True"
      ]
     },
     "execution_count": 88,
     "metadata": {},
     "output_type": "execute_result"
    }
   ],
   "source": [
    "np.any(test>4) #원소값중 4보다 큰 값이 존재 함으로 True"
   ]
  },
  {
   "cell_type": "code",
   "execution_count": 107,
   "metadata": {},
   "outputs": [
    {
     "data": {
      "text/plain": [
       "False"
      ]
     },
     "execution_count": 107,
     "metadata": {},
     "output_type": "execute_result"
    }
   ],
   "source": [
    "np.all(test>4) #모든 원소값이 4보단 크지 않기때문에 False"
   ]
  },
  {
   "cell_type": "code",
   "execution_count": 108,
   "metadata": {},
   "outputs": [
    {
     "data": {
      "text/plain": [
       "True"
      ]
     },
     "execution_count": 108,
     "metadata": {},
     "output_type": "execute_result"
    }
   ],
   "source": [
    "np.all(test>=0)#모든 원소값은 0보다 크거나 같기 때문에 True"
   ]
  },
  {
   "cell_type": "markdown",
   "metadata": {},
   "source": [
    "### Numpy 크기 비교"
   ]
  },
  {
   "cell_type": "code",
   "execution_count": 91,
   "metadata": {},
   "outputs": [
    {
     "name": "stdout",
     "output_type": "stream",
     "text": [
      "[False  True  True]\n",
      "[False False False]\n",
      "True\n",
      "False\n"
     ]
    }
   ],
   "source": [
    "test1 = np.array([1,20,33])\n",
    "test2 = np.array([10,10,10])\n",
    "print(test1>test2)#배열의 각 인덱스별 크기 비교\n",
    "print(test1==test2)\n",
    "print((test1>test2).any())#배열의 각인덱스별 크기 비교중 하나라도 만족한다면 True\n",
    "print((test1>test2).all())#배열의 각인덱스별 크기 비교중 모두 만족한다면 True"
   ]
  },
  {
   "cell_type": "code",
   "execution_count": 113,
   "metadata": {},
   "outputs": [
    {
     "name": "stdout",
     "output_type": "stream",
     "text": [
      "[[False  True  True]\n",
      " [False  True  True]]\n",
      "[[False False  True]\n",
      " [False  True  True]]\n",
      "[[ True False False]\n",
      " [False False False]]\n",
      "True\n",
      "False\n"
     ]
    }
   ],
   "source": [
    "#앞서 크기비교 한것을 2차원배열로 확장\n",
    "test1 = np.array([[10,20,33],[11,22,33]])\n",
    "test2 = np.array([[10,10,10],[100,1,0]])\n",
    "print(test1>test2)\n",
    "print(test1>20)\n",
    "print(test1==test2)\n",
    "print((test1>test2).any())\n",
    "print((test1>test2).all())"
   ]
  },
  {
   "cell_type": "markdown",
   "metadata": {},
   "source": [
    "### Numpy 크기 비교2\n",
    "np.logical_and\n",
    "\n",
    "np.logical_not\n",
    "\n",
    "Np.logical_or"
   ]
  },
  {
   "cell_type": "code",
   "execution_count": 110,
   "metadata": {},
   "outputs": [
    {
     "data": {
      "text/plain": [
       "array([ True, False, False])"
      ]
     },
     "execution_count": 110,
     "metadata": {},
     "output_type": "execute_result"
    }
   ],
   "source": [
    "test1 = np.array([1,20,33])\n",
    "np.logical_and(test1>0,test1<10)#두 조건을 만족한다면 True"
   ]
  },
  {
   "cell_type": "code",
   "execution_count": 111,
   "metadata": {},
   "outputs": [
    {
     "data": {
      "text/plain": [
       "array([ True, False, False])"
      ]
     },
     "execution_count": 111,
     "metadata": {},
     "output_type": "execute_result"
    }
   ],
   "source": [
    "test2 = np.array([False,True,True])\n",
    "np.logical_not(test2)#반대값 출력 "
   ]
  },
  {
   "cell_type": "code",
   "execution_count": 112,
   "metadata": {},
   "outputs": [
    {
     "data": {
      "text/plain": [
       "array([False,  True,  True])"
      ]
     },
     "execution_count": 112,
     "metadata": {},
     "output_type": "execute_result"
    }
   ],
   "source": [
    "test3 = np.array([False,False,True])\n",
    "np.logical_or(test2,test3)#하나라도 True라면 True 반환"
   ]
  },
  {
   "cell_type": "markdown",
   "metadata": {},
   "source": [
    "### Numpy where\n",
    "np.where(조건, 참일때 반환할 값, 거짓일때 반환할 값)"
   ]
  },
  {
   "cell_type": "code",
   "execution_count": 122,
   "metadata": {},
   "outputs": [
    {
     "data": {
      "text/plain": [
       "array([  2, 100, 100])"
      ]
     },
     "execution_count": 122,
     "metadata": {},
     "output_type": "execute_result"
    }
   ],
   "source": [
    "test1 = np.array([1,20,33])\n",
    "np.where(test1>5,100,2)"
   ]
  },
  {
   "cell_type": "code",
   "execution_count": 123,
   "metadata": {},
   "outputs": [
    {
     "data": {
      "text/plain": [
       "(array([5, 6, 7, 8, 9]),)"
      ]
     },
     "execution_count": 123,
     "metadata": {},
     "output_type": "execute_result"
    }
   ],
   "source": [
    "test2 = np.arange(10)\n",
    "np.where(test2>4) #배열 원소값이 4보다 큰 값들의 인덱스를 반환"
   ]
  },
  {
   "cell_type": "code",
   "execution_count": 129,
   "metadata": {},
   "outputs": [
    {
     "data": {
      "text/plain": [
       "(array([1, 3, 4, 5, 7]),)"
      ]
     },
     "execution_count": 129,
     "metadata": {},
     "output_type": "execute_result"
    }
   ],
   "source": [
    "test3 = np.array([1,10,4,5,6,50,1,100])\n",
    "np.where(test3>4)#배열 원소값이 4보다 큰 값들의 인덱스를 반환"
   ]
  },
  {
   "cell_type": "code",
   "execution_count": 125,
   "metadata": {},
   "outputs": [
    {
     "data": {
      "text/plain": [
       "array([False, False, False,  True, False])"
      ]
     },
     "execution_count": 125,
     "metadata": {},
     "output_type": "execute_result"
    }
   ],
   "source": [
    "test4 = np.array([\"1\", 2,\"2\" ,np.NaN, np.Inf], float)\n",
    "np.isnan(test4)#Not a Number숫자가 아닌, / Infinity 무한대 "
   ]
  },
  {
   "cell_type": "markdown",
   "metadata": {},
   "source": [
    "### Numpy argmax & argmin"
   ]
  },
  {
   "cell_type": "code",
   "execution_count": 126,
   "metadata": {},
   "outputs": [
    {
     "data": {
      "text/plain": [
       "(7, 0)"
      ]
     },
     "execution_count": 126,
     "metadata": {},
     "output_type": "execute_result"
    }
   ],
   "source": [
    "test1 = np.array([1,10,4,5,6,50,1,100])\n",
    "np.argmax(test1), np.argmin(test1)# 배열값중 최대값 , 최소값의 인덱스 추출"
   ]
  },
  {
   "cell_type": "code",
   "execution_count": 131,
   "metadata": {},
   "outputs": [
    {
     "data": {
      "text/plain": [
       "(array([[111, 222, 333],\n",
       "        [555, 666, 777],\n",
       "        [123, 633, 768]]),\n",
       " 5,\n",
       " 0)"
      ]
     },
     "execution_count": 131,
     "metadata": {},
     "output_type": "execute_result"
    }
   ],
   "source": [
    "test2 = np.array([[111,222,333],[555,666,777],[123,633,768]])\n",
    "test2,np.argmax(test2), np.argmin(test2)#다차원 배열에서도 적용가능, 인덱스를 새는 방법에 주목"
   ]
  },
  {
   "cell_type": "code",
   "execution_count": 132,
   "metadata": {},
   "outputs": [
    {
     "data": {
      "text/plain": [
       "(array([2, 2, 2]), array([0, 0, 0]))"
      ]
     },
     "execution_count": 132,
     "metadata": {},
     "output_type": "execute_result"
    }
   ],
   "source": [
    "np.argmax(test2, axis=1) , np.argmin(test2,axis=0)#axis를 활용하여 접근 / 1은 가로로, 0은 세로로"
   ]
  },
  {
   "cell_type": "markdown",
   "metadata": {},
   "source": [
    "### Numpy boolean index"
   ]
  },
  {
   "cell_type": "code",
   "execution_count": 133,
   "metadata": {},
   "outputs": [
    {
     "data": {
      "text/plain": [
       "array([[ True,  True,  True,  True, False, False, False, False, False,\n",
       "        False],\n",
       "       [ True,  True,  True,  True, False, False, False, False, False,\n",
       "        False],\n",
       "       [ True,  True,  True,  True, False, False, False, False, False,\n",
       "        False],\n",
       "       [ True,  True,  True,  True, False, False, False, False, False,\n",
       "        False],\n",
       "       [ True,  True,  True,  True, False, False, False, False, False,\n",
       "        False],\n",
       "       [ True,  True,  True,  True, False, False, False, False, False,\n",
       "        False]])"
      ]
     },
     "execution_count": 133,
     "metadata": {},
     "output_type": "execute_result"
    }
   ],
   "source": [
    "test1 =np.array([\n",
    "    [1,2,3,4,5,6,7,8,9,10],\n",
    "    [1,2,3,4,5,6,7,8,9,10],\n",
    "    [1,2,3,4,5,6,7,8,9,10],\n",
    "    [1,2,3,4,5,6,7,8,9,10],\n",
    "    [1,2,3,4,5,6,7,8,9,10],\n",
    "    [1,2,3,4,5,6,7,8,9,10]\n",
    "])\n",
    "test2 = test1 < 5#값들이 5보다 작다면 False\n",
    "test2"
   ]
  },
  {
   "cell_type": "code",
   "execution_count": 134,
   "metadata": {},
   "outputs": [
    {
     "data": {
      "text/plain": [
       "array([[1, 1, 1, 1, 0, 0, 0, 0, 0, 0],\n",
       "       [1, 1, 1, 1, 0, 0, 0, 0, 0, 0],\n",
       "       [1, 1, 1, 1, 0, 0, 0, 0, 0, 0],\n",
       "       [1, 1, 1, 1, 0, 0, 0, 0, 0, 0],\n",
       "       [1, 1, 1, 1, 0, 0, 0, 0, 0, 0],\n",
       "       [1, 1, 1, 1, 0, 0, 0, 0, 0, 0]])"
      ]
     },
     "execution_count": 134,
     "metadata": {},
     "output_type": "execute_result"
    }
   ],
   "source": [
    "test2.astype(np.int)#True는 1, False는0으로 변환"
   ]
  },
  {
   "cell_type": "code",
   "execution_count": null,
   "metadata": {},
   "outputs": [],
   "source": []
  }
 ],
 "metadata": {
  "kernelspec": {
   "display_name": "Python 3",
   "language": "python",
   "name": "python3"
  },
  "language_info": {
   "codemirror_mode": {
    "name": "ipython",
    "version": 3
   },
   "file_extension": ".py",
   "mimetype": "text/x-python",
   "name": "python",
   "nbconvert_exporter": "python",
   "pygments_lexer": "ipython3",
   "version": "3.7.6"
  }
 },
 "nbformat": 4,
 "nbformat_minor": 4
}
