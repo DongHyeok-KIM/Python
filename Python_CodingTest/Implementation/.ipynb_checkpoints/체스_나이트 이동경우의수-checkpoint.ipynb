{
 "cells": [
  {
   "cell_type": "markdown",
   "metadata": {},
   "source": [
    "# 체스판에서 나이트의 이동경우의수를 구하라\n",
    "단 입력으로 나이트의 최초 좌표를 설정해 준다.    \n",
    "나이트의 이동경로     \n",
    "1. 수평으로 두칸 이동한 뒤에 수직으로 한칸 이동하기\n",
    "2. 수직으로 두칸 이동한 뒤에 수평으로 한칸 이동하기"
   ]
  },
  {
   "cell_type": "code",
   "execution_count": 6,
   "metadata": {},
   "outputs": [
    {
     "name": "stdout",
     "output_type": "stream",
     "text": [
      "a1\n",
      "2\n"
     ]
    }
   ],
   "source": [
    "input_data = input()\n",
    "row = int(input_data[1])\n",
    "column = int(ord(input_data[0])) - int(ord('a')) + 1\n",
    "\n",
    "steps = [\n",
    "    (-2,-1),(-1,-2),(1,-2),(2,-1),\n",
    "    (2,1),(1,2),(-1,2),(-2,1)\n",
    "]\n",
    "\n",
    "result = 0 \n",
    "for step in steps:\n",
    "    next_row = row +step[0]\n",
    "    next_column = column + step[1]\n",
    "    #해당 위치로 이동이 가능할때 카운트 증가\n",
    "    if next_row >= 1 and next_row <= 8 and next_column >= 1 and next_column <=8:\n",
    "        result += 1\n",
    "print(result)"
   ]
  }
 ],
 "metadata": {
  "kernelspec": {
   "display_name": "Python 3",
   "language": "python",
   "name": "python3"
  },
  "language_info": {
   "codemirror_mode": {
    "name": "ipython",
    "version": 3
   },
   "file_extension": ".py",
   "mimetype": "text/x-python",
   "name": "python",
   "nbconvert_exporter": "python",
   "pygments_lexer": "ipython3",
   "version": "3.7.6"
  }
 },
 "nbformat": 4,
 "nbformat_minor": 4
}
