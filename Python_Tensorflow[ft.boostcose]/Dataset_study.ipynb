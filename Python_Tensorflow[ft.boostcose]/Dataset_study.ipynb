{
 "cells": [
  {
   "cell_type": "code",
   "execution_count": 4,
   "metadata": {},
   "outputs": [],
   "source": [
    "import tensorflow as tf\n",
    "import pathlib\n",
    "import os\n",
    "import matplotlib.pyplot as plt\n",
    "import pandas as pd\n",
    "import numpy as np\n",
    "\n",
    "np.set_printoptions(precision=4)"
   ]
  },
  {
   "cell_type": "code",
   "execution_count": 5,
   "metadata": {},
   "outputs": [
    {
     "data": {
      "text/plain": [
       "<TensorSliceDataset shapes: (), types: tf.int32>"
      ]
     },
     "execution_count": 5,
     "metadata": {},
     "output_type": "execute_result"
    }
   ],
   "source": [
    "dataset = tf.data.Dataset.from_tensor_slices([8,3,0,8,2,1])\n",
    "dataset"
   ]
  },
  {
   "cell_type": "code",
   "execution_count": 6,
   "metadata": {},
   "outputs": [
    {
     "name": "stdout",
     "output_type": "stream",
     "text": [
      "8\n",
      "3\n",
      "0\n",
      "8\n",
      "2\n",
      "1\n"
     ]
    }
   ],
   "source": [
    "for elem in dataset:\n",
    "    print(elem.numpy())"
   ]
  },
  {
   "cell_type": "code",
   "execution_count": 9,
   "metadata": {},
   "outputs": [
    {
     "name": "stdout",
     "output_type": "stream",
     "text": [
      "8\n"
     ]
    }
   ],
   "source": [
    "it = iter(dataset)\n",
    "print(next(it).numpy())"
   ]
  },
  {
   "cell_type": "code",
   "execution_count": 10,
   "metadata": {},
   "outputs": [
    {
     "name": "stdout",
     "output_type": "stream",
     "text": [
      "22\n"
     ]
    }
   ],
   "source": [
    "print(dataset.reduce(0, lambda state, value: state + value).numpy())\n"
   ]
  },
  {
   "cell_type": "code",
   "execution_count": 11,
   "metadata": {},
   "outputs": [
    {
     "data": {
      "text/plain": [
       "TensorSpec(shape=(10,), dtype=tf.float32, name=None)"
      ]
     },
     "execution_count": 11,
     "metadata": {},
     "output_type": "execute_result"
    }
   ],
   "source": [
    "dataset1= tf.data.Dataset.from_tensor_slices(tf.random.uniform([4,10]))\n",
    "dataset1.element_spec"
   ]
  },
  {
   "cell_type": "code",
   "execution_count": 12,
   "metadata": {},
   "outputs": [
    {
     "data": {
      "text/plain": [
       "<TensorSliceDataset shapes: (10,), types: tf.float32>"
      ]
     },
     "execution_count": 12,
     "metadata": {},
     "output_type": "execute_result"
    }
   ],
   "source": [
    "dataset1"
   ]
  },
  {
   "cell_type": "code",
   "execution_count": 13,
   "metadata": {},
   "outputs": [
    {
     "name": "stdout",
     "output_type": "stream",
     "text": [
      "[0.3769 0.9168 0.852  0.5177 0.5388 0.7084 0.0691 0.3314 0.0055 0.6107]\n",
      "[0.8909 0.3044 0.034  0.3236 0.953  0.0316 0.1419 0.8954 0.4615 0.6517]\n",
      "[0.2764 0.9027 0.8696 0.3135 0.3704 0.6845 0.3819 0.0576 0.338  0.425 ]\n",
      "[0.7544 0.1475 0.4664 0.6065 0.4896 0.2928 0.7322 0.5144 0.0763 0.9139]\n"
     ]
    }
   ],
   "source": [
    "for elem in dataset1:\n",
    "    print(elem.numpy())"
   ]
  },
  {
   "cell_type": "code",
   "execution_count": 31,
   "metadata": {},
   "outputs": [
    {
     "data": {
      "text/plain": [
       "(TensorSpec(shape=(), dtype=tf.float32, name=None),\n",
       " TensorSpec(shape=(10,), dtype=tf.int32, name=None))"
      ]
     },
     "execution_count": 31,
     "metadata": {},
     "output_type": "execute_result"
    }
   ],
   "source": [
    "dataset2 = tf.data.Dataset.from_tensor_slices((\n",
    "tf.random.uniform([10]), tf.random.uniform([10,10], maxval=50,dtype=tf.int32)))\n",
    "\n",
    "dataset2.element_spec"
   ]
  },
  {
   "cell_type": "code",
   "execution_count": 32,
   "metadata": {},
   "outputs": [
    {
     "data": {
      "text/plain": [
       "<TensorSliceDataset shapes: ((), (10,)), types: (tf.float32, tf.int32)>"
      ]
     },
     "execution_count": 32,
     "metadata": {},
     "output_type": "execute_result"
    }
   ],
   "source": [
    "dataset2"
   ]
  },
  {
   "cell_type": "code",
   "execution_count": 33,
   "metadata": {},
   "outputs": [
    {
     "name": "stdout",
     "output_type": "stream",
     "text": [
      "(<tf.Tensor: shape=(), dtype=float32, numpy=0.4263897>, <tf.Tensor: shape=(10,), dtype=int32, numpy=array([14,  4, 21, 27, 29, 42, 38, 48,  7, 20], dtype=int32)>)\n",
      "(<tf.Tensor: shape=(), dtype=float32, numpy=0.48391318>, <tf.Tensor: shape=(10,), dtype=int32, numpy=array([37,  5,  8, 26, 49,  6, 36, 43, 32, 49], dtype=int32)>)\n",
      "(<tf.Tensor: shape=(), dtype=float32, numpy=0.06976771>, <tf.Tensor: shape=(10,), dtype=int32, numpy=array([42, 29, 42, 12, 31, 17, 17, 10, 10, 14], dtype=int32)>)\n",
      "(<tf.Tensor: shape=(), dtype=float32, numpy=0.6551244>, <tf.Tensor: shape=(10,), dtype=int32, numpy=array([32, 23, 12, 45, 35, 35, 23, 21,  9, 47], dtype=int32)>)\n",
      "(<tf.Tensor: shape=(), dtype=float32, numpy=0.47340465>, <tf.Tensor: shape=(10,), dtype=int32, numpy=array([ 8, 10, 34,  7,  9, 44, 30, 25, 48, 18], dtype=int32)>)\n",
      "(<tf.Tensor: shape=(), dtype=float32, numpy=0.10695803>, <tf.Tensor: shape=(10,), dtype=int32, numpy=array([42, 26, 36, 37, 27, 38, 12, 35,  7, 27], dtype=int32)>)\n",
      "(<tf.Tensor: shape=(), dtype=float32, numpy=0.19754755>, <tf.Tensor: shape=(10,), dtype=int32, numpy=array([37, 19, 42, 28, 18, 35, 44, 45, 44, 34], dtype=int32)>)\n",
      "(<tf.Tensor: shape=(), dtype=float32, numpy=0.8308071>, <tf.Tensor: shape=(10,), dtype=int32, numpy=array([10, 19, 49,  0, 47, 12, 33,  8,  8, 38], dtype=int32)>)\n",
      "(<tf.Tensor: shape=(), dtype=float32, numpy=0.63851774>, <tf.Tensor: shape=(10,), dtype=int32, numpy=array([40, 48, 40, 29, 48, 37, 34, 10, 44,  5], dtype=int32)>)\n",
      "(<tf.Tensor: shape=(), dtype=float32, numpy=0.28305936>, <tf.Tensor: shape=(10,), dtype=int32, numpy=array([29, 37, 25, 16, 35, 43, 48, 17,  6,  2], dtype=int32)>)\n"
     ]
    }
   ],
   "source": [
    "for elem in dataset2:\n",
    "    print(elem)"
   ]
  },
  {
   "cell_type": "code",
   "execution_count": 34,
   "metadata": {},
   "outputs": [
    {
     "data": {
      "text/plain": [
       "(TensorSpec(shape=(10,), dtype=tf.float32, name=None),\n",
       " (TensorSpec(shape=(), dtype=tf.float32, name=None),\n",
       "  TensorSpec(shape=(10,), dtype=tf.int32, name=None)))"
      ]
     },
     "execution_count": 34,
     "metadata": {},
     "output_type": "execute_result"
    }
   ],
   "source": [
    "dataset3 = tf.data.Dataset.zip((dataset1, dataset2))\n",
    "dataset3.element_spec"
   ]
  },
  {
   "cell_type": "code",
   "execution_count": 35,
   "metadata": {},
   "outputs": [
    {
     "name": "stdout",
     "output_type": "stream",
     "text": [
      "(<tf.Tensor: shape=(10,), dtype=float32, numpy=\n",
      "array([0.3769, 0.9168, 0.852 , 0.5177, 0.5388, 0.7084, 0.0691, 0.3314,\n",
      "       0.0055, 0.6107], dtype=float32)>, (<tf.Tensor: shape=(), dtype=float32, numpy=0.4263897>, <tf.Tensor: shape=(10,), dtype=int32, numpy=array([14,  4, 21, 27, 29, 42, 38, 48,  7, 20], dtype=int32)>))\n",
      "(<tf.Tensor: shape=(10,), dtype=float32, numpy=\n",
      "array([0.8909, 0.3044, 0.034 , 0.3236, 0.953 , 0.0316, 0.1419, 0.8954,\n",
      "       0.4615, 0.6517], dtype=float32)>, (<tf.Tensor: shape=(), dtype=float32, numpy=0.48391318>, <tf.Tensor: shape=(10,), dtype=int32, numpy=array([37,  5,  8, 26, 49,  6, 36, 43, 32, 49], dtype=int32)>))\n",
      "(<tf.Tensor: shape=(10,), dtype=float32, numpy=\n",
      "array([0.2764, 0.9027, 0.8696, 0.3135, 0.3704, 0.6845, 0.3819, 0.0576,\n",
      "       0.338 , 0.425 ], dtype=float32)>, (<tf.Tensor: shape=(), dtype=float32, numpy=0.06976771>, <tf.Tensor: shape=(10,), dtype=int32, numpy=array([42, 29, 42, 12, 31, 17, 17, 10, 10, 14], dtype=int32)>))\n",
      "(<tf.Tensor: shape=(10,), dtype=float32, numpy=\n",
      "array([0.7544, 0.1475, 0.4664, 0.6065, 0.4896, 0.2928, 0.7322, 0.5144,\n",
      "       0.0763, 0.9139], dtype=float32)>, (<tf.Tensor: shape=(), dtype=float32, numpy=0.6551244>, <tf.Tensor: shape=(10,), dtype=int32, numpy=array([32, 23, 12, 45, 35, 35, 23, 21,  9, 47], dtype=int32)>))\n"
     ]
    }
   ],
   "source": [
    "for elem in dataset3:\n",
    "    print(elem)"
   ]
  },
  {
   "cell_type": "code",
   "execution_count": 36,
   "metadata": {},
   "outputs": [
    {
     "data": {
      "text/plain": [
       "SparseTensorSpec(TensorShape([3, 4]), tf.int32)"
      ]
     },
     "execution_count": 36,
     "metadata": {},
     "output_type": "execute_result"
    }
   ],
   "source": [
    "dataset4 = tf.data.Dataset.from_tensors(tf.SparseTensor(indices=[[0, 0], [1, 2]], values=[1, 2], dense_shape=[3, 4]))\n",
    "\n",
    "dataset4.element_spec"
   ]
  },
  {
   "cell_type": "code",
   "execution_count": 39,
   "metadata": {},
   "outputs": [
    {
     "name": "stdout",
     "output_type": "stream",
     "text": [
      "SparseTensor(indices=tf.Tensor(\n",
      "[[0 0]\n",
      " [1 2]], shape=(2, 2), dtype=int64), values=tf.Tensor([1 2], shape=(2,), dtype=int32), dense_shape=tf.Tensor([3 4], shape=(2,), dtype=int64))\n"
     ]
    }
   ],
   "source": [
    "for elem in dataset4:\n",
    "    print(elem)"
   ]
  },
  {
   "cell_type": "code",
   "execution_count": 40,
   "metadata": {},
   "outputs": [
    {
     "data": {
      "text/plain": [
       "tensorflow.python.framework.sparse_tensor.SparseTensor"
      ]
     },
     "execution_count": 40,
     "metadata": {},
     "output_type": "execute_result"
    }
   ],
   "source": [
    "dataset4.element_spec.value_type"
   ]
  },
  {
   "cell_type": "code",
   "execution_count": null,
   "metadata": {},
   "outputs": [],
   "source": []
  }
 ],
 "metadata": {
  "kernelspec": {
   "display_name": "Python 3",
   "language": "python",
   "name": "python3"
  },
  "language_info": {
   "codemirror_mode": {
    "name": "ipython",
    "version": 3
   },
   "file_extension": ".py",
   "mimetype": "text/x-python",
   "name": "python",
   "nbconvert_exporter": "python",
   "pygments_lexer": "ipython3",
   "version": "3.7.6"
  }
 },
 "nbformat": 4,
 "nbformat_minor": 4
}
