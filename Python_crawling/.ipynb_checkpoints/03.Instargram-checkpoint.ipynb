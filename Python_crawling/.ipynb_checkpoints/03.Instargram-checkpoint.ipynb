{
 "cells": [
  {
   "cell_type": "code",
   "execution_count": null,
   "metadata": {},
   "outputs": [],
   "source": [
    "import time\n",
    "from selenium import webdriver\n",
    "from selenium.webdriver.support.wait import WebDriverWait\n",
    "from bs4 import BeautifulSoup\n",
    "import datetime as dt\n",
    "import os\n",
    "import requests\n",
    "from matplotlib import pyplot"
   ]
  },
  {
   "cell_type": "code",
   "execution_count": null,
   "metadata": {},
   "outputs": [],
   "source": [
    "user_agent = \"\"\n",
    "session = requests.Session()\n",
    "session.headers.update({'User-agent': user_agent, 'referer': None})"
   ]
  },
  {
   "cell_type": "code",
   "execution_count": null,
   "metadata": {},
   "outputs": [],
   "source": [
    "options = webdriver.ChromeOptions()\n",
    "mobile_emulation = {\"deviceName\" : \"Nexus 5\"}\n",
    "options.add_experimental_option(\"mobileEmulation\", mobile_emulation)"
   ]
  },
  {
   "cell_type": "code",
   "execution_count": null,
   "metadata": {},
   "outputs": [],
   "source": [
    "driver = webdriver.Chrome('./chromedriver', chrome_options=options)\n",
    "driver.implicitly_wait(5)"
   ]
  },
  {
   "cell_type": "code",
   "execution_count": null,
   "metadata": {},
   "outputs": [],
   "source": [
    "driver.get(\"https://www.instagram.com/yoona__lim/feed\")\n",
    "time.sleep(3)"
   ]
  },
  {
   "cell_type": "code",
   "execution_count": null,
   "metadata": {},
   "outputs": [],
   "source": [
    "img_list = []\n",
    "for i in range(0,10):\n",
    "    soup = BeautifulSoup(driver.page_source, 'html.parser')\n",
    "    \n",
    "    img = soup.select(\"img[srcset]\")\n",
    "    \n",
    "    img_list = list(set(img_list))\n",
    "    \n",
    "    print(\"%04d 번째 페이지에서 %02d건 수집함 >> 누적 데이터수 : %05d\" %(i+1, len(img),len(img_list)))\n",
    "    \n",
    "    driver.execute_script(\"window.scrollTo(0, document.body.scrollHeight);\")\n",
    "    \n",
    "    time.sleep(1)\n",
    "    \n",
    "img_list"
   ]
  },
  {
   "cell_type": "code",
   "execution_count": null,
   "metadata": {},
   "outputs": [],
   "source": [
    "src_list = []\n",
    "\n",
    "for t in img_list:\n",
    "    srcset = t.attrs['srcset']\n",
    "    srcset_list = srcset.split(\",\")\n",
    "    item = srcset_list[len(srcset_list)-1]\n",
    "    url = item[:itme.find(\",\")]\n",
    "    src_list.append(url)\n",
    "\n",
    "src_list = list(set(src_list))\n",
    "src_list"
   ]
  },
  {
   "cell_type": "code",
   "execution_count": null,
   "metadata": {},
   "outputs": [],
   "source": [
    "datetime = dt.datetime.now().strftime(\"%y%m%d_%H%M\")\n",
    "dirname = \"insta_%s\" % (datetime)"
   ]
  },
  {
   "cell_type": "code",
   "execution_count": null,
   "metadata": {},
   "outputs": [],
   "source": [
    "user_agent= \"Mozilla/5.0 (Macintosh; Intel Mac OS X 10_15_3) AppleWebKit/537.36 (KHTML, like Gecko) Chrome/80.0.3987.149 Safari/537.36\"\n",
    "session = requests.Session()\n",
    "session.headers.update({'User-agent' : user_agent, 'referer' : None})"
   ]
  },
  {
   "cell_type": "code",
   "execution_count": null,
   "metadata": {},
   "outputs": [],
   "source": [
    "count = 0\n",
    "\n",
    "if not os.path.exists(dirname):\n",
    "    os.mkdir(dirname)\n",
    "    \n",
    "for image_url in src_list:\n",
    "    \n",
    "    count +=1\n",
    "    \n",
    "    path = \"%s/%04d.jpg\" %(dirname, count)\n",
    "    \n",
    "    try:\n",
    "        r =session.get(image_url, stream=True)\n",
    "        \n",
    "        if r.status_code!= 200:\n",
    "            raise Exception\n",
    "            \n",
    "        with open(path, 'wb') as f:\n",
    "            f.write(r.raw.read())\n",
    "            print(\"[ok] %s(이)가 저장 되었습니다.\" %path)\n",
    "    except:\n",
    "        print(\"[Error] %s (은)는 저장에 실팽했습니다.\" %path)\n",
    "        continue"
   ]
  },
  {
   "cell_type": "code",
   "execution_count": null,
   "metadata": {},
   "outputs": [],
   "source": []
  }
 ],
 "metadata": {
  "kernelspec": {
   "display_name": "Python 3",
   "language": "python",
   "name": "python3"
  },
  "language_info": {
   "codemirror_mode": {
    "name": "ipython",
    "version": 3
   },
   "file_extension": ".py",
   "mimetype": "text/x-python",
   "name": "python",
   "nbconvert_exporter": "python",
   "pygments_lexer": "ipython3",
   "version": "3.7.6"
  }
 },
 "nbformat": 4,
 "nbformat_minor": 4
}
