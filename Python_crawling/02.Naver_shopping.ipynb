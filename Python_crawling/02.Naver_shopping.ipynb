{
 "cells": [
  {
   "cell_type": "code",
   "execution_count": null,
   "metadata": {},
   "outputs": [],
   "source": [
    "import time\n",
    "from selenium import webdriver\n",
    "from selenium.webdriver.support.wait import WebDriverWait\n",
    "from bs4 import BeautifulSoup\n",
    "import pandas as pd\n",
    "from matplotlib import pyplot"
   ]
  },
  {
   "cell_type": "code",
   "execution_count": null,
   "metadata": {},
   "outputs": [],
   "source": [
    "driver = webdriver.Chrome('./chromedriver')\n",
    "driver.implicitly_wait(5)"
   ]
  },
  {
   "cell_type": "code",
   "execution_count": null,
   "metadata": {},
   "outputs": [],
   "source": [
    "driver.get('https://nid.naver.com/nidlogin.login')\n",
    "time.sleep(3)"
   ]
  },
  {
   "cell_type": "code",
   "execution_count": null,
   "metadata": {},
   "outputs": [],
   "source": [
    "myid = \n",
    "mypw = "
   ]
  },
  {
   "cell_type": "markdown",
   "metadata": {},
   "source": [
    "elem_login = driver.find_element_by_css_selector('#id')\n",
    "elem_login.clear()\n",
    "elem_login.send_keys(myid)\n",
    "\n",
    "\n",
    "elem_login = driver.find_element_by_css_selector('#pw')\n",
    "elem_login.clear()\n",
    "elem_login.send_keys(mypw)"
   ]
  },
  {
   "cell_type": "code",
   "execution_count": null,
   "metadata": {},
   "outputs": [],
   "source": [
    "script = \"document.getElementById('id').value='%s'\"\n",
    "driver.execute_script(script % myid)\n",
    "\n",
    "script = \"document.getElementById('pw').value='%s'\"\n",
    "driver.execute_script(script % mypw)"
   ]
  },
  {
   "cell_type": "code",
   "execution_count": null,
   "metadata": {},
   "outputs": [],
   "source": [
    "driver.find_element_by_css_selector(\".btn_global\").click()"
   ]
  },
  {
   "cell_type": "code",
   "execution_count": null,
   "metadata": {},
   "outputs": [],
   "source": [
    "try:\n",
    "    WebDriberWait(driver, 3).until(lambda x : x.find_delement_by_css_selector(\"account\"))\n",
    "except Exception as ex:\n",
    "    print(\"로그인 실패 >>\",ex)\n",
    "    quit()"
   ]
  },
  {
   "cell_type": "code",
   "execution_count": null,
   "metadata": {},
   "outputs": [],
   "source": [
    "driver.get(\"https://order.pay.naver.com/home\")\n",
    "\n",
    "try:\n",
    "    WebDriverWait(driver, 3).until(\n",
    "    lambda x: x.find_element_by_css_selector(\"#_listContetArea\"))\n",
    "except Exception as ex :\n",
    "    print(\"Naverpay 페이지의 소스코드 구성이 변겨오디어 크롤링이 불가능 합니다. >>\",ex)\n",
    "    quit()\n"
   ]
  },
  {
   "cell_type": "code",
   "execution_count": null,
   "metadata": {},
   "outputs": [],
   "source": [
    "count = 0 \n",
    "while True :\n",
    "    try:\n",
    "        more_button = WebDriverWait(driver,3).until(\n",
    "        lambda x.find_element_by_css_selector(\"#_moreButton\"))\n",
    "        attrs={}\n",
    "        for item in more_button.get_property('attributes'):\n",
    "            attrs[item['name']] = item['value']\n",
    "            \n",
    "        if 'style' in attrs:\n",
    "            faise Exception\n",
    "        driver.find_element_by_css_selector(\".button_viewmore\").click()\n",
    "        count += 1\n",
    "        print(\"%d 회 more 버튼이 클릭 되었습니다.\"%count)\n",
    "        \n",
    "        except Exception as ex:\n",
    "            print(\"more 버튼을 찾을 수 없습니다. >>\")\n",
    "            break"
   ]
  },
  {
   "cell_type": "code",
   "execution_count": null,
   "metadata": {},
   "outputs": [],
   "source": [
    "soup = BeautifulSoup(driver.page_source, 'html.parser')\n",
    "\n",
    "goods = soup.select('goods_pay_item')\n",
    "\n",
    "driver.quit()\n",
    "\n",
    "if not goods:\n",
    "    print(\"네이버페이를 통한 구매 내역이 없습니다.\")\n",
    "    quit()\n",
    "goods"
   ]
  },
  {
   "cell_type": "code",
   "execution_count": null,
   "metadata": {},
   "outputs": [],
   "source": []
  }
 ],
 "metadata": {
  "kernelspec": {
   "display_name": "Python 3",
   "language": "python",
   "name": "python3"
  },
  "language_info": {
   "codemirror_mode": {
    "name": "ipython",
    "version": 3
   },
   "file_extension": ".py",
   "mimetype": "text/x-python",
   "name": "python",
   "nbconvert_exporter": "python",
   "pygments_lexer": "ipython3",
   "version": "3.7.6"
  }
 },
 "nbformat": 4,
 "nbformat_minor": 4
}
