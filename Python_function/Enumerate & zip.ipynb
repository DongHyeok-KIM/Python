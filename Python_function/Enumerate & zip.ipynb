{
 "cells": [
  {
   "cell_type": "markdown",
   "metadata": {},
   "source": [
    "# enumerate\n",
    "\n",
    "\n",
    "### enumerate_사용 x"
   ]
  },
  {
   "cell_type": "code",
   "execution_count": 1,
   "metadata": {},
   "outputs": [
    {
     "name": "stdout",
     "output_type": "stream",
     "text": [
      "one\n",
      "two\n",
      "three\n",
      "four\n",
      "five\n"
     ]
    }
   ],
   "source": [
    "test_list = ['one', 'two', 'three','four','five']\n",
    "for i in test_list:\n",
    "    print(i)"
   ]
  },
  {
   "cell_type": "markdown",
   "metadata": {},
   "source": [
    "### enumerate_사용o"
   ]
  },
  {
   "cell_type": "code",
   "execution_count": 2,
   "metadata": {},
   "outputs": [
    {
     "name": "stdout",
     "output_type": "stream",
     "text": [
      "0 one\n",
      "1 two\n",
      "2 three\n",
      "3 four\n",
      "4 five\n"
     ]
    }
   ],
   "source": [
    "for i,v in enumerate(test_list):\n",
    "    print(i,v)"
   ]
  },
  {
   "cell_type": "markdown",
   "metadata": {},
   "source": [
    "### enumerate_unpacking"
   ]
  },
  {
   "cell_type": "code",
   "execution_count": 3,
   "metadata": {},
   "outputs": [
    {
     "data": {
      "text/plain": [
       "[(0, 'one'), (1, 'two'), (2, 'three'), (3, 'four'), (4, 'five')]"
      ]
     },
     "execution_count": 3,
     "metadata": {},
     "output_type": "execute_result"
    }
   ],
   "source": [
    "list(enumerate(test_list))"
   ]
  },
  {
   "cell_type": "markdown",
   "metadata": {},
   "source": [
    "### enumerate_컴프리헨션"
   ]
  },
  {
   "cell_type": "code",
   "execution_count": 17,
   "metadata": {},
   "outputs": [
    {
     "data": {
      "text/plain": [
       "{0: '동해물과',\n",
       " 1: '백두산이',\n",
       " 2: '마르고',\n",
       " 3: '닳도록',\n",
       " 4: '하느님이',\n",
       " 5: '보우하사',\n",
       " 6: '우리나라',\n",
       " 7: '만세'}"
      ]
     },
     "execution_count": 17,
     "metadata": {},
     "output_type": "execute_result"
    }
   ],
   "source": [
    "#문자열을 빈칸으로 스플릿 한 후, enumerate로 인덱스와함께 dict형태로 보내기\n",
    "{i:j for i,j in enumerate('동해물과 백두산이 마르고 닳도록 하느님이 보우하사 우리나라 만세'.split())}"
   ]
  },
  {
   "cell_type": "code",
   "execution_count": 20,
   "metadata": {},
   "outputs": [
    {
     "data": {
      "text/plain": [
       "{0: '동해물과 백두산', 1: ' 마르고 닳도록 하느님', 2: ' 보우하사 우리나라 만세'}"
      ]
     },
     "execution_count": 20,
     "metadata": {},
     "output_type": "execute_result"
    }
   ],
   "source": [
    "#문자열을 '이'로 스플릿 한 후, enumerate로 인덱스와함께 dict형태로 보내기\n",
    "{i:j for i,j in enumerate('동해물과 백두산이 마르고 닳도록 하느님이 보우하사 우리나라 만세'.split('이'))}"
   ]
  },
  {
   "cell_type": "markdown",
   "metadata": {},
   "source": [
    "### zip\n",
    "\n",
    "enumerate가 리스트에 인덱스를 입히기 위한 함수라면,     \n",
    "zip은 복수의 리스트를 다루기 위한 함수\n",
    "### zip_예시"
   ]
  },
  {
   "cell_type": "code",
   "execution_count": 22,
   "metadata": {},
   "outputs": [
    {
     "name": "stdout",
     "output_type": "stream",
     "text": [
      "1 가\n",
      "2 나\n",
      "3 다\n",
      "4 라\n",
      "5 마\n"
     ]
    }
   ],
   "source": [
    "test_list1 = ['1','2','3','4','5']\n",
    "test_list2 = ['가','나','다','라','마']\n",
    "\n",
    "for i,v in zip(test_list1,test_list2):\n",
    "    print(i,v)\n",
    "#리스트 두개를 합칠 수 있습니다."
   ]
  },
  {
   "cell_type": "code",
   "execution_count": 26,
   "metadata": {},
   "outputs": [
    {
     "name": "stdout",
     "output_type": "stream",
     "text": [
      "1 가 !\n",
      "2 나 @\n",
      "3 다 #\n",
      "4 라 $\n",
      "5 마 %\n"
     ]
    }
   ],
   "source": [
    "test_list1 = ['1','2','3','4','5']\n",
    "test_list2 = ['가','나','다','라','마']\n",
    "test_list3 = ['!','@','#','$','%']\n",
    "\n",
    "for i,v,c in zip(test_list1,test_list2,test_list3):\n",
    "    print(i,v,c)\n",
    "#리스트 3개도 역시 합칠 수 있습니다."
   ]
  },
  {
   "cell_type": "markdown",
   "metadata": {},
   "source": [
    "### zip_ unpacking"
   ]
  },
  {
   "cell_type": "code",
   "execution_count": 40,
   "metadata": {},
   "outputs": [
    {
     "name": "stdout",
     "output_type": "stream",
     "text": [
      "('1', '가')\n",
      "('2', '나')\n",
      "('3', '다')\n",
      "('4', '라')\n",
      "('5', '마')\n"
     ]
    }
   ],
   "source": [
    "#앞서 사용한 리스트를 활용하여 unpacking하기\n",
    "a,b,c,d,e = zip(test_list1,test_list2)\n",
    "print(a)\n",
    "print(b)\n",
    "print(c)\n",
    "print(d)\n",
    "print(e)"
   ]
  },
  {
   "cell_type": "code",
   "execution_count": 42,
   "metadata": {},
   "outputs": [
    {
     "name": "stdout",
     "output_type": "stream",
     "text": [
      "('1', '가', '!')\n",
      "('2', '나', '@')\n",
      "('3', '다', '#')\n",
      "('4', '라', '$')\n",
      "('5', '마', '%')\n"
     ]
    }
   ],
   "source": [
    "#앞서 사용한 리스트를 활용하여 unpacking하기\n",
    "a,b,c,d,e = zip(test_list1,test_list2,test_list3)\n",
    "print(a)\n",
    "print(b)\n",
    "print(c)\n",
    "print(d)\n",
    "print(e)"
   ]
  },
  {
   "cell_type": "markdown",
   "metadata": {},
   "source": [
    "### zip _ 컴프리헨션"
   ]
  },
  {
   "cell_type": "code",
   "execution_count": 43,
   "metadata": {},
   "outputs": [
    {
     "data": {
      "text/plain": [
       "[111, 222, 333]"
      ]
     },
     "execution_count": 43,
     "metadata": {},
     "output_type": "execute_result"
    }
   ],
   "source": [
    "#컴프리헨션으로 각 튜플 요소들의 합을 구함\n",
    "[sum(i) for i in zip((1,2,3),(10,20,30),(100,200,300))]"
   ]
  },
  {
   "cell_type": "markdown",
   "metadata": {},
   "source": [
    "### zip_enumerate 응용"
   ]
  },
  {
   "cell_type": "code",
   "execution_count": 33,
   "metadata": {},
   "outputs": [
    {
     "name": "stdout",
     "output_type": "stream",
     "text": [
      "0 1 가\n",
      "1 2 나\n",
      "2 3 다\n",
      "3 4 라\n",
      "4 5 마\n"
     ]
    }
   ],
   "source": [
    "test_list1 = ['1','2','3','4','5']\n",
    "test_list2 = ['가','나','다','라','마']\n",
    "\n",
    "for i, (a,b) in enumerate(zip(test_list1,test_list2)):\n",
    "    print(i,a,b)"
   ]
  },
  {
   "cell_type": "code",
   "execution_count": 39,
   "metadata": {},
   "outputs": [
    {
     "name": "stdout",
     "output_type": "stream",
     "text": [
      "0 ('1', '가')\n",
      "1 ('2', '나')\n",
      "2 ('3', '다')\n",
      "3 ('4', '라')\n",
      "4 ('5', '마')\n"
     ]
    }
   ],
   "source": [
    "test_list1 = ['1','2','3','4','5']\n",
    "test_list2 = ['가','나','다','라','마']\n",
    "v = a,b\n",
    "for i, v in enumerate(zip(test_list1,test_list2)):\n",
    "    print(i,v)"
   ]
  },
  {
   "cell_type": "code",
   "execution_count": null,
   "metadata": {},
   "outputs": [],
   "source": []
  }
 ],
 "metadata": {
  "kernelspec": {
   "display_name": "Python 3",
   "language": "python",
   "name": "python3"
  },
  "language_info": {
   "codemirror_mode": {
    "name": "ipython",
    "version": 3
   },
   "file_extension": ".py",
   "mimetype": "text/x-python",
   "name": "python",
   "nbconvert_exporter": "python",
   "pygments_lexer": "ipython3",
   "version": "3.7.6"
  }
 },
 "nbformat": 4,
 "nbformat_minor": 4
}
