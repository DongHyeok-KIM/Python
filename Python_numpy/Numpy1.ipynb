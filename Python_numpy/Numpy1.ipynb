{
 "cells": [
  {
   "cell_type": "markdown",
   "metadata": {},
   "source": [
    "# Numpy\n",
    "\n",
    "### Numpy란?\n",
    "numerical Python.  \n",
    "파이썬의 고성능 과학 계산용 패키지    \n",
    "메트릭스와 백터, 배열연산 가능.  \n"
   ]
  },
  {
   "cell_type": "markdown",
   "metadata": {},
   "source": [
    "### Numpy 사용\n",
    "범용적으로 별칭 np 사용함."
   ]
  },
  {
   "cell_type": "code",
   "execution_count": 101,
   "metadata": {},
   "outputs": [],
   "source": [
    "import numpy as np"
   ]
  },
  {
   "cell_type": "code",
   "execution_count": 102,
   "metadata": {},
   "outputs": [],
   "source": [
    "test1 = np.array([0,1,2,3,4,5])#배열안의 원소값들의 데이터 형식을 지정 가능 디폴트 int\n",
    "test2 = np.array([0,1,2,3,4,5,6], float)#원소값들을 플롯 형식으로지정\n",
    "test3 = np.array([\"0\",\"1\",2,3,4], int)#배열안에 문자값을 숫자값으로 읽어드릴 수 있다.\n",
    "test4 = np.array(range(10))"
   ]
  },
  {
   "cell_type": "code",
   "execution_count": 103,
   "metadata": {},
   "outputs": [
    {
     "name": "stdout",
     "output_type": "stream",
     "text": [
      "[0 1 2 3 4 5]\n",
      "[0. 1. 2. 3. 4. 5. 6.]\n",
      "[0 1 2 3 4]\n",
      "[0 1 2 3 4 5 6 7 8 9]\n"
     ]
    }
   ],
   "source": [
    "print(test1)\n",
    "print(test2)# 플롯 형식은 '0.', '1.' 식으로 저장됨\n",
    "print(test3)# \"0\" ,\"1\"이 숫자로 저장됨\n",
    "print(test4)"
   ]
  },
  {
   "cell_type": "markdown",
   "metadata": {},
   "source": [
    "### Numpy type"
   ]
  },
  {
   "cell_type": "code",
   "execution_count": 104,
   "metadata": {},
   "outputs": [
    {
     "name": "stdout",
     "output_type": "stream",
     "text": [
      "<class 'numpy.ndarray'>\n",
      "<class 'numpy.ndarray'>\n",
      "<class 'numpy.ndarray'>\n",
      "<class 'numpy.ndarray'>\n"
     ]
    }
   ],
   "source": [
    "#ndarray 란 넘피 디맨션 어레이 = numpy dimansion array\n",
    "print(type(test1))\n",
    "print(type(test2))\n",
    "print(type(test3))\n",
    "print(type(test4))"
   ]
  },
  {
   "cell_type": "code",
   "execution_count": 105,
   "metadata": {},
   "outputs": [
    {
     "name": "stdout",
     "output_type": "stream",
     "text": [
      "<class 'numpy.int64'>\n",
      "<class 'numpy.float64'>\n",
      "<class 'numpy.int64'>\n",
      "<class 'numpy.int64'>\n"
     ]
    }
   ],
   "source": [
    "#원소값을 직접 호출 가능하다\n",
    "print(type(test1[0]))\n",
    "print(type(test2[1]))\n",
    "print(type(test3[2]))\n",
    "print(type(test4[3]))"
   ]
  },
  {
   "cell_type": "markdown",
   "metadata": {},
   "source": [
    "### Numpy 응용"
   ]
  },
  {
   "cell_type": "code",
   "execution_count": 106,
   "metadata": {},
   "outputs": [
    {
     "name": "stdout",
     "output_type": "stream",
     "text": [
      "[[0. 1. 2. 3. 4.]\n",
      " [5. 6. 7. 8. 9.]]\n",
      "<class 'numpy.ndarray'>\n",
      "<class 'numpy.ndarray'>\n",
      "<class 'numpy.float64'>\n"
     ]
    }
   ],
   "source": [
    "#배열은 다차원으로 만들 수 있다.\n",
    "test1 = np.array([[0,1,2,3,4,],[5,6,7,8,9]], float)#로우와 컬럼이 존재하는 배열로 생성\n",
    "print(test1)\n",
    "print(type(test1))\n",
    "print(type(test1[0]))\n",
    "print(type(test1[0][0]))"
   ]
  },
  {
   "cell_type": "markdown",
   "metadata": {},
   "source": [
    "### Numpy & shape"
   ]
  },
  {
   "cell_type": "code",
   "execution_count": 107,
   "metadata": {},
   "outputs": [
    {
     "name": "stdout",
     "output_type": "stream",
     "text": [
      "(3,)\n",
      "(2, 3)\n",
      "(3, 3)\n",
      "(3, 3, 3)\n",
      "(3, 3, 3)\n"
     ]
    }
   ],
   "source": [
    "test1 = np.array([0,1,2])#컬럼만 존재 [1차원]\n",
    "test2 = np.array([[0,1,2],[3,4,5]])#컬럼과 로우가 존재[2차원] \n",
    "test3 = np.array([[0,1,2],[3,4,5],[\"6\",7,8]])#로우한줄 추가[2차원]\n",
    "\n",
    "\n",
    "#3차원 배열 선언\n",
    "test4 = np.array([[[0,1,2],[3,4,5],[6,7,8]],\n",
    "                  [[9,10,11],[12,13,14],[15,16,17]],\n",
    "                  [[18,19,20],[21,22,23],[24,25,26]]])\n",
    "\n",
    "test5 = [[[0,1,2],[3,4,5],[6,7,8]],\n",
    "        [[9,10,11],[12,13,14],[15,16,17]],\n",
    "        [[18,19,20],[21,22,23],[24,25,26]]]\n",
    "\n",
    "print(test1.shape)#1차원의 경우 '(3,)' 과 같이 생성된다.\n",
    "print(test2.shape)#차원이 늘어날 경우 기존 값은 오른쪽으로 밀리고, 새로운 값이 왼쪽에 생성된다.\n",
    "print(test3.shape)\n",
    "print(test4.shape)#(3 = 공간(테이블이 3개) , 3 =3줄(row), 3 = 3칸(column))\n",
    "print(np.array(test5).shape)"
   ]
  },
  {
   "cell_type": "markdown",
   "metadata": {},
   "source": [
    "### Numpy & shape 2\n",
    "ndim - number of dimension   \n",
    "size - data 수"
   ]
  },
  {
   "cell_type": "code",
   "execution_count": 108,
   "metadata": {},
   "outputs": [
    {
     "name": "stdout",
     "output_type": "stream",
     "text": [
      "1  ,  3\n",
      "2  ,  6\n",
      "2  ,  9\n",
      "3  ,  27\n",
      "3  ,  27\n"
     ]
    }
   ],
   "source": [
    "#위에서 사용한 배열 참고\n",
    "print(test1.ndim ,\" , \", test1.size)\n",
    "print(test2.ndim ,\" , \", test2.size)\n",
    "print(test3.ndim ,\" , \", test3.size)\n",
    "print(test4.ndim ,\" , \", test4.size)#데이터의 수가 9개인 테이블이 3개 존재\n",
    "print(np.array(test5).ndim ,\" , \", np.array(test5).size)# 3 *9 = 27"
   ]
  },
  {
   "cell_type": "markdown",
   "metadata": {},
   "source": [
    "### Numpy & shape3\n",
    "#### reshape\n",
    "배열을 재정립함 (원하는 차원으로)"
   ]
  },
  {
   "cell_type": "code",
   "execution_count": 109,
   "metadata": {},
   "outputs": [
    {
     "name": "stdout",
     "output_type": "stream",
     "text": [
      "(3, 3) \n",
      "\n",
      "\n",
      "['0' '1' '2' '3' '4' '5' '6' '7' '8'] \n",
      "\n",
      "\n",
      "[['0' '1' '2']\n",
      " ['3' '4' '5']\n",
      " ['6' '7' '8']] \n",
      "\n",
      "\n",
      "[['0' '1' '2']\n",
      " ['3' '4' '5']\n",
      " ['6' '7' '8']] \n",
      "\n",
      "\n",
      "[[['0' '1' '2']]\n",
      "\n",
      " [['3' '4' '5']]\n",
      "\n",
      " [['6' '7' '8']]] \n",
      "\n",
      "\n"
     ]
    }
   ],
   "source": [
    "test1 = np.array([[0,1,2],[3,4,5],[\"6\",7,8]])\n",
    "print(test1.shape,'\\n'*2)#2차원의 배열\n",
    "print(test1.reshape(9,),'\\n'*2)#1차원으로 변환\n",
    "print(test1.reshape(3,3),'\\n'*2)\n",
    "print(test1.reshape(-1,3),'\\n'*2)#size를 기반으로 row개수 선정\n",
    "print(test1.reshape(3,1,3),'\\n'*2)"
   ]
  },
  {
   "cell_type": "markdown",
   "metadata": {},
   "source": [
    "#### flatten\n",
    "다차원 배열을 1차원으로 변환한다."
   ]
  },
  {
   "cell_type": "code",
   "execution_count": 111,
   "metadata": {},
   "outputs": [
    {
     "name": "stdout",
     "output_type": "stream",
     "text": [
      "[[[0 1]]\n",
      "\n",
      " [[2 3]]\n",
      "\n",
      " [[4 5]]] \n",
      "\n",
      "\n",
      "(3, 1, 2) \n",
      "\n",
      "\n",
      "[0 1 2 3 4 5] \n",
      "\n",
      "\n",
      "(6,) \n",
      "\n",
      "\n"
     ]
    }
   ],
   "source": [
    "test = [[[0,1]],[[2,3]],[[4,5]]]#3차원 선언\n",
    "print(np.array(test),'\\n'*2)\n",
    "\n",
    "print(np.array(test).shape,'\\n'*2)#3차원 shape확인\n",
    "\n",
    "print(np.array(test).flatten(),'\\n'*2)#3차원을 1차원으로 변환\n",
    "\n",
    "print(np.array(test).flatten().shape,'\\n'*2)# 확인"
   ]
  },
  {
   "cell_type": "code",
   "execution_count": null,
   "metadata": {},
   "outputs": [],
   "source": []
  }
 ],
 "metadata": {
  "kernelspec": {
   "display_name": "Python 3",
   "language": "python",
   "name": "python3"
  },
  "language_info": {
   "codemirror_mode": {
    "name": "ipython",
    "version": 3
   },
   "file_extension": ".py",
   "mimetype": "text/x-python",
   "name": "python",
   "nbconvert_exporter": "python",
   "pygments_lexer": "ipython3",
   "version": "3.7.6"
  }
 },
 "nbformat": 4,
 "nbformat_minor": 4
}
